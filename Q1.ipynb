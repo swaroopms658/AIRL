{
  "nbformat": 4,
  "nbformat_minor": 0,
  "metadata": {
    "colab": {
      "provenance": [],
      "gpuType": "V5E1"
    },
    "kernelspec": {
      "name": "python3",
      "display_name": "Python 3"
    },
    "language_info": {
      "name": "python"
    },
    "accelerator": "TPU"
  },
  "cells": [
    {
      "cell_type": "markdown",
      "source": [
        "VERSION-1"
      ],
      "metadata": {
        "id": "ZfFt6JIuTmGX"
      }
    },
    {
      "cell_type": "code",
      "execution_count": 8,
      "metadata": {
        "colab": {
          "base_uri": "https://localhost:8080/"
        },
        "id": "qog2Ddbgyywe",
        "outputId": "21b8af01-e27b-4440-f56a-ea1fe2554dda"
      },
      "outputs": [
        {
          "output_type": "stream",
          "name": "stdout",
          "text": [
            "Using device: cuda\n",
            "PyTorch Version: 2.8.0+cu126\n"
          ]
        }
      ],
      "source": [
        "import torch\n",
        "import torch.nn as nn\n",
        "import torch.optim as optim\n",
        "import torchvision\n",
        "import torchvision.transforms as transforms\n",
        "from torch.utils.data import DataLoader\n",
        "from torch.cuda.amp import autocast, GradScaler\n",
        "from torch.optim.lr_scheduler import OneCycleLR\n",
        "from tqdm import tqdm\n",
        "import time\n",
        "\n",
        "device = torch.device(\"cuda\" if torch.cuda.is_available() else \"cpu\")\n",
        "print(f\"Using device: {device}\")\n",
        "\n",
        "\n",
        "print(f\"PyTorch Version: {torch.__version__}\")\n",
        "use_compile = hasattr(torch, 'compile')"
      ]
    },
    {
      "cell_type": "code",
      "source": [
        "config = {\n",
        "\n",
        "    \"image_size\": 32,\n",
        "    \"in_channels\": 3,\n",
        "    \"num_classes\": 10,\n",
        "\n",
        "\n",
        "    \"patch_size\": 4,\n",
        "    \"embed_dim\": 512,\n",
        "    \"depth\": 6,\n",
        "    \"heads\": 8,\n",
        "    \"mlp_dim\": 1024,\n",
        "    \"dropout\": 0.1,\n",
        "\n",
        "\n",
        "    \"learning_rate\": 1e-3,\n",
        "    \"weight_decay\": 5e-5,\n",
        "    \"batch_size\": 256,\n",
        "    \"epochs\": 50,\n",
        "}\n",
        "\n",
        "\n",
        "config[\"num_patches\"] = (config[\"image_size\"] // config[\"patch_size\"]) ** 2"
      ],
      "metadata": {
        "id": "L6yXSuzpzDLv"
      },
      "execution_count": 9,
      "outputs": []
    },
    {
      "cell_type": "code",
      "source": [
        "\n",
        "transform_train = transforms.Compose([\n",
        "    transforms.RandomCrop(config[\"image_size\"], padding=4),\n",
        "    transforms.RandomHorizontalFlip(),\n",
        "    transforms.RandAugment(num_ops=2, magnitude=9),\n",
        "    transforms.ToTensor(),\n",
        "    transforms.Normalize((0.4914, 0.4822, 0.4465), (0.2023, 0.1994, 0.2010)),\n",
        "    transforms.RandomErasing(p=0.25, scale=(0.02, 0.33), ratio=(0.3, 3.3), value=0, inplace=False),\n",
        "])\n",
        "\n",
        "transform_test = transforms.Compose([\n",
        "    transforms.ToTensor(),\n",
        "    transforms.Normalize((0.4914, 0.4822, 0.4465), (0.2023, 0.1994, 0.2010)),\n",
        "])\n",
        "\n",
        "\n",
        "print(\"Downloading and setting up datasets...\")\n",
        "trainset = torchvision.datasets.CIFAR10(\n",
        "    root='./data', train=True, download=True, transform=transform_train)\n",
        "trainloader = DataLoader(\n",
        "    trainset, batch_size=config[\"batch_size\"], shuffle=True, num_workers=4, pin_memory=True)\n",
        "\n",
        "testset = torchvision.datasets.CIFAR10(\n",
        "    root='./data', train=False, download=True, transform=transform_test)\n",
        "testloader = DataLoader(\n",
        "    testset, batch_size=config[\"batch_size\"], shuffle=False, num_workers=4, pin_memory=True)\n",
        "print(\"Data setup complete.\")"
      ],
      "metadata": {
        "colab": {
          "base_uri": "https://localhost:8080/"
        },
        "id": "TonfeClqzPHr",
        "outputId": "dbdf5c7b-d534-4b36-854a-068bcc340559"
      },
      "execution_count": 10,
      "outputs": [
        {
          "output_type": "stream",
          "name": "stdout",
          "text": [
            "Downloading and setting up datasets...\n"
          ]
        },
        {
          "output_type": "stream",
          "name": "stderr",
          "text": [
            "/usr/local/lib/python3.12/dist-packages/torch/utils/data/dataloader.py:627: UserWarning: This DataLoader will create 4 worker processes in total. Our suggested max number of worker in current system is 2, which is smaller than what this DataLoader is going to create. Please be aware that excessive worker creation might get DataLoader running slow or even freeze, lower the worker number to avoid potential slowness/freeze if necessary.\n",
            "  warnings.warn(\n"
          ]
        },
        {
          "output_type": "stream",
          "name": "stdout",
          "text": [
            "Data setup complete.\n"
          ]
        }
      ]
    },
    {
      "cell_type": "code",
      "source": [
        "class PatchEmbedding(nn.Module):\n",
        "    def __init__(self, config):\n",
        "        super().__init__()\n",
        "        self.patch_size = config[\"patch_size\"]\n",
        "        self.embed_dim = config[\"embed_dim\"]\n",
        "        self.projection = nn.Conv2d(config[\"in_channels\"], self.embed_dim, kernel_size=self.patch_size, stride=self.patch_size)\n",
        "        self.cls_token = nn.Parameter(torch.randn(1, 1, self.embed_dim))\n",
        "        self.positional_embedding = nn.Parameter(torch.randn(1, config[\"num_patches\"] + 1, self.embed_dim))\n",
        "\n",
        "    def forward(self, x):\n",
        "        x = self.projection(x).flatten(2).transpose(1, 2)\n",
        "        cls_tokens = self.cls_token.expand(x.shape[0], -1, -1)\n",
        "        x = torch.cat((cls_tokens, x), dim=1)\n",
        "        x += self.positional_embedding\n",
        "        return x\n",
        "\n",
        "class TransformerEncoder(nn.Module):\n",
        "    def __init__(self, embed_dim, heads, mlp_dim, dropout):\n",
        "        super().__init__()\n",
        "        self.norm1 = nn.LayerNorm(embed_dim)\n",
        "        self.attention = nn.MultiheadAttention(embed_dim, heads, dropout=dropout, batch_first=True)\n",
        "        self.norm2 = nn.LayerNorm(embed_dim)\n",
        "        self.mlp = nn.Sequential(\n",
        "            nn.Linear(embed_dim, mlp_dim),\n",
        "            nn.GELU(),\n",
        "            nn.Dropout(dropout),\n",
        "            nn.Linear(mlp_dim, embed_dim),\n",
        "            nn.Dropout(dropout)\n",
        "        )\n",
        "\n",
        "    def forward(self, x):\n",
        "        x = x + self.attention(self.norm1(x), self.norm1(x), self.norm1(x))[0]\n",
        "        x = x + self.mlp(self.norm2(x))\n",
        "        return x\n",
        "\n",
        "class VisionTransformer(nn.Module):\n",
        "    def __init__(self, config):\n",
        "        super().__init__()\n",
        "        self.patch_embedding = PatchEmbedding(config)\n",
        "        self.encoder_layers = nn.ModuleList([\n",
        "            TransformerEncoder(config[\"embed_dim\"], config[\"heads\"], config[\"mlp_dim\"], config[\"dropout\"])\n",
        "            for _ in range(config[\"depth\"])\n",
        "        ])\n",
        "        self.norm = nn.LayerNorm(config[\"embed_dim\"])\n",
        "        self.classifier = nn.Linear(config[\"embed_dim\"], config[\"num_classes\"])\n",
        "\n",
        "    def forward(self, x):\n",
        "        x = self.patch_embedding(x)\n",
        "        for layer in self.encoder_layers:\n",
        "            x = layer(x)\n",
        "        cls_token_final = self.norm(x[:, 0])\n",
        "        return self.classifier(cls_token_final)"
      ],
      "metadata": {
        "id": "h1eFQe2vzSVr"
      },
      "execution_count": 11,
      "outputs": []
    },
    {
      "cell_type": "code",
      "source": [
        "print(\"Initializing model...\")\n",
        "model = VisionTransformer(config).to(device)\n",
        "\n",
        "if use_compile:\n",
        "    print(\"Using torch.compile for model optimization.\")\n",
        "    model = torch.compile(model)\n",
        "\n",
        "criterion = nn.CrossEntropyLoss()\n",
        "optimizer = optim.AdamW(model.parameters(), lr=config[\"learning_rate\"], weight_decay=config[\"weight_decay\"])\n",
        "scheduler = OneCycleLR(optimizer, max_lr=config[\"learning_rate\"], steps_per_epoch=len(trainloader), epochs=config[\"epochs\"])\n",
        "scaler = GradScaler()\n",
        "\n",
        "print(\"Model and training components initialized.\")"
      ],
      "metadata": {
        "colab": {
          "base_uri": "https://localhost:8080/"
        },
        "id": "pu5Z0sDL2ZOO",
        "outputId": "b654c070-2c7d-4d25-b8ad-89876da6199a"
      },
      "execution_count": 12,
      "outputs": [
        {
          "output_type": "stream",
          "name": "stdout",
          "text": [
            "Initializing model...\n",
            "Using torch.compile for model optimization.\n",
            "Model and training components initialized.\n"
          ]
        },
        {
          "output_type": "stream",
          "name": "stderr",
          "text": [
            "/tmp/ipython-input-3548584274.py:11: FutureWarning: `torch.cuda.amp.GradScaler(args...)` is deprecated. Please use `torch.amp.GradScaler('cuda', args...)` instead.\n",
            "  scaler = GradScaler()\n"
          ]
        }
      ]
    },
    {
      "cell_type": "code",
      "source": [
        "def train(epoch):\n",
        "    model.train()\n",
        "    train_loss = 0\n",
        "    correct = 0\n",
        "    total = 0\n",
        "    progress_bar = tqdm(trainloader, desc=f\"Epoch {epoch+1}/{config['epochs']} [Train]\")\n",
        "\n",
        "    for batch_idx, (inputs, targets) in enumerate(progress_bar):\n",
        "        inputs, targets = inputs.to(device), targets.to(device)\n",
        "        optimizer.zero_grad()\n",
        "\n",
        "\n",
        "        with torch.amp.autocast(device_type=device.type, dtype=torch.float16):\n",
        "            outputs = model(inputs)\n",
        "            loss = criterion(outputs, targets)\n",
        "\n",
        "        scaler.scale(loss).backward()\n",
        "        scaler.step(optimizer)\n",
        "        scaler.update()\n",
        "        scheduler.step()\n",
        "\n",
        "        train_loss += loss.item()\n",
        "        _, predicted = outputs.max(1)\n",
        "        total += targets.size(0)\n",
        "        correct += predicted.eq(targets).sum().item()\n",
        "\n",
        "        progress_bar.set_postfix(\n",
        "            loss=f'{train_loss/(batch_idx+1):.3f}',\n",
        "            acc=f'{100.*correct/total:.2f}%',\n",
        "            lr=f'{scheduler.get_last_lr()[0]:.1e}'\n",
        "        )\n",
        "\n",
        "def test(epoch):\n",
        "    global best_acc\n",
        "    model.eval()\n",
        "    test_loss = 0\n",
        "    correct = 0\n",
        "    total = 0\n",
        "    progress_bar = tqdm(testloader, desc=f\"Epoch {epoch+1}/{config['epochs']} [Test]\")\n",
        "    with torch.no_grad():\n",
        "        for batch_idx, (inputs, targets) in enumerate(progress_bar):\n",
        "            inputs, targets = inputs.to(device), targets.to(device)\n",
        "            outputs = model(inputs)\n",
        "            loss = criterion(outputs, targets)\n",
        "\n",
        "            test_loss += loss.item()\n",
        "            _, predicted = outputs.max(1)\n",
        "            total += targets.size(0)\n",
        "            correct += predicted.eq(targets).sum().item()\n",
        "\n",
        "            progress_bar.set_postfix(\n",
        "                loss=f'{test_loss/(batch_idx+1):.3f}',\n",
        "                acc=f'{100.*correct/total:.2f}%'\n",
        "            )\n",
        "\n",
        "    acc = 100. * correct / total\n",
        "    if acc > best_acc:\n",
        "        print(f'New best accuracy: {acc:.2f}%. Saving model...')\n",
        "        best_acc = acc\n",
        "\n",
        "\n",
        "    return acc"
      ],
      "metadata": {
        "id": "Z3uHrVL22cP_"
      },
      "execution_count": 15,
      "outputs": []
    },
    {
      "cell_type": "code",
      "source": [
        "\n",
        "\n",
        "print(\"Initializing model for training...\")\n",
        "model = VisionTransformer(config).to(device)\n",
        "\n",
        "if use_compile:\n",
        "    print(\"Using torch.compile for model optimization.\")\n",
        "    model = torch.compile(model)\n",
        "\n",
        "criterion = nn.CrossEntropyLoss()\n",
        "optimizer = optim.AdamW(model.parameters(), lr=config[\"learning_rate\"], weight_decay=config[\"weight_decay\"])\n",
        "scheduler = OneCycleLR(optimizer, max_lr=config[\"learning_rate\"], steps_per_epoch=len(trainloader), epochs=config[\"epochs\"])\n",
        "\n",
        "scaler = GradScaler()\n",
        "print(\"Model and training components initialized.\")\n",
        "\n",
        "\n",
        "best_acc = 0.0\n",
        "start_time = time.time()\n",
        "print(\"\\nStarting training...\")\n",
        "\n",
        "for epoch in range(config['epochs']):\n",
        "    train(epoch)\n",
        "    current_acc = test(epoch)\n",
        "\n",
        "end_time = time.time()\n",
        "total_time = end_time - start_time\n",
        "\n",
        "print(\"\\n--- Training Finished ---\")\n",
        "print(f\"Total Training Time: {total_time/60:.2f} minutes\")\n",
        "print(f\"Best Test Accuracy: {best_acc:.2f}%\")"
      ],
      "metadata": {
        "colab": {
          "base_uri": "https://localhost:8080/"
        },
        "id": "e5tM92sx2e6D",
        "outputId": "3ce56b50-49c4-43c1-a072-d1d03db944a3"
      },
      "execution_count": 17,
      "outputs": [
        {
          "output_type": "stream",
          "name": "stderr",
          "text": [
            "/tmp/ipython-input-827708161.py:16: FutureWarning: `torch.cuda.amp.GradScaler(args...)` is deprecated. Please use `torch.amp.GradScaler('cuda', args...)` instead.\n",
            "  scaler = GradScaler()\n"
          ]
        },
        {
          "output_type": "stream",
          "name": "stdout",
          "text": [
            "Initializing model for training...\n",
            "Using torch.compile for model optimization.\n",
            "Model and training components initialized.\n",
            "\n",
            "Starting training...\n"
          ]
        },
        {
          "output_type": "stream",
          "name": "stderr",
          "text": [
            "Epoch 1/50 [Train]: 100%|██████████| 196/196 [00:44<00:00,  4.36it/s, acc=22.56%, loss=2.090, lr=5.0e-05]\n",
            "Epoch 1/50 [Test]: 100%|██████████| 40/40 [00:06<00:00,  6.18it/s, acc=32.38%, loss=1.839]\n"
          ]
        },
        {
          "output_type": "stream",
          "name": "stdout",
          "text": [
            "New best accuracy: 32.38%. Saving model...\n"
          ]
        },
        {
          "output_type": "stream",
          "name": "stderr",
          "text": [
            "Epoch 2/50 [Train]: 100%|██████████| 196/196 [00:44<00:00,  4.36it/s, acc=32.39%, loss=1.868, lr=8.2e-05]\n",
            "Epoch 2/50 [Test]: 100%|██████████| 40/40 [00:06<00:00,  6.17it/s, acc=46.22%, loss=1.522]\n"
          ]
        },
        {
          "output_type": "stream",
          "name": "stdout",
          "text": [
            "New best accuracy: 46.22%. Saving model...\n"
          ]
        },
        {
          "output_type": "stream",
          "name": "stderr",
          "text": [
            "Epoch 3/50 [Train]: 100%|██████████| 196/196 [00:44<00:00,  4.40it/s, acc=37.65%, loss=1.721, lr=1.3e-04]\n",
            "Epoch 3/50 [Test]: 100%|██████████| 40/40 [00:06<00:00,  6.16it/s, acc=50.70%, loss=1.393]\n"
          ]
        },
        {
          "output_type": "stream",
          "name": "stdout",
          "text": [
            "New best accuracy: 50.70%. Saving model...\n"
          ]
        },
        {
          "output_type": "stream",
          "name": "stderr",
          "text": [
            "Epoch 4/50 [Train]: 100%|██████████| 196/196 [00:44<00:00,  4.42it/s, acc=41.03%, loss=1.623, lr=2.0e-04]\n",
            "Epoch 4/50 [Test]: 100%|██████████| 40/40 [00:06<00:00,  6.39it/s, acc=52.27%, loss=1.337]\n"
          ]
        },
        {
          "output_type": "stream",
          "name": "stdout",
          "text": [
            "New best accuracy: 52.27%. Saving model...\n"
          ]
        },
        {
          "output_type": "stream",
          "name": "stderr",
          "text": [
            "Epoch 5/50 [Train]: 100%|██████████| 196/196 [00:44<00:00,  4.38it/s, acc=43.87%, loss=1.551, lr=2.8e-04]\n",
            "Epoch 5/50 [Test]: 100%|██████████| 40/40 [00:06<00:00,  6.43it/s, acc=54.66%, loss=1.250]\n"
          ]
        },
        {
          "output_type": "stream",
          "name": "stdout",
          "text": [
            "New best accuracy: 54.66%. Saving model...\n"
          ]
        },
        {
          "output_type": "stream",
          "name": "stderr",
          "text": [
            "Epoch 6/50 [Train]: 100%|██████████| 196/196 [00:45<00:00,  4.29it/s, acc=45.64%, loss=1.503, lr=3.7e-04]\n",
            "Epoch 6/50 [Test]: 100%|██████████| 40/40 [00:06<00:00,  6.37it/s, acc=55.00%, loss=1.229]\n"
          ]
        },
        {
          "output_type": "stream",
          "name": "stdout",
          "text": [
            "New best accuracy: 55.00%. Saving model...\n"
          ]
        },
        {
          "output_type": "stream",
          "name": "stderr",
          "text": [
            "Epoch 7/50 [Train]: 100%|██████████| 196/196 [00:44<00:00,  4.36it/s, acc=47.10%, loss=1.463, lr=4.7e-04]\n",
            "Epoch 7/50 [Test]: 100%|██████████| 40/40 [00:06<00:00,  6.31it/s, acc=53.86%, loss=1.257]\n",
            "Epoch 8/50 [Train]: 100%|██████████| 196/196 [00:45<00:00,  4.35it/s, acc=47.88%, loss=1.446, lr=5.7e-04]\n",
            "Epoch 8/50 [Test]: 100%|██████████| 40/40 [00:06<00:00,  6.41it/s, acc=55.73%, loss=1.199]\n"
          ]
        },
        {
          "output_type": "stream",
          "name": "stdout",
          "text": [
            "New best accuracy: 55.73%. Saving model...\n"
          ]
        },
        {
          "output_type": "stream",
          "name": "stderr",
          "text": [
            "Epoch 9/50 [Train]: 100%|██████████| 196/196 [00:44<00:00,  4.40it/s, acc=48.59%, loss=1.427, lr=6.7e-04]\n",
            "Epoch 9/50 [Test]: 100%|██████████| 40/40 [00:06<00:00,  6.38it/s, acc=58.98%, loss=1.155]\n"
          ]
        },
        {
          "output_type": "stream",
          "name": "stdout",
          "text": [
            "New best accuracy: 58.98%. Saving model...\n"
          ]
        },
        {
          "output_type": "stream",
          "name": "stderr",
          "text": [
            "Epoch 10/50 [Train]: 100%|██████████| 196/196 [00:45<00:00,  4.34it/s, acc=49.13%, loss=1.418, lr=7.6e-04]\n",
            "Epoch 10/50 [Test]: 100%|██████████| 40/40 [00:06<00:00,  6.50it/s, acc=57.29%, loss=1.194]\n",
            "Epoch 11/50 [Train]: 100%|██████████| 196/196 [00:45<00:00,  4.35it/s, acc=48.78%, loss=1.422, lr=8.4e-04]\n",
            "Epoch 11/50 [Test]: 100%|██████████| 40/40 [00:06<00:00,  6.41it/s, acc=57.72%, loss=1.162]\n",
            "Epoch 12/50 [Train]: 100%|██████████| 196/196 [00:45<00:00,  4.33it/s, acc=48.51%, loss=1.431, lr=9.1e-04]\n",
            "Epoch 12/50 [Test]: 100%|██████████| 40/40 [00:06<00:00,  6.37it/s, acc=59.71%, loss=1.126]\n"
          ]
        },
        {
          "output_type": "stream",
          "name": "stdout",
          "text": [
            "New best accuracy: 59.71%. Saving model...\n"
          ]
        },
        {
          "output_type": "stream",
          "name": "stderr",
          "text": [
            "Epoch 13/50 [Train]: 100%|██████████| 196/196 [00:44<00:00,  4.37it/s, acc=49.11%, loss=1.413, lr=9.6e-04]\n",
            "Epoch 13/50 [Test]: 100%|██████████| 40/40 [00:06<00:00,  6.42it/s, acc=57.97%, loss=1.182]\n",
            "Epoch 14/50 [Train]: 100%|██████████| 196/196 [00:45<00:00,  4.31it/s, acc=49.56%, loss=1.392, lr=9.9e-04]\n",
            "Epoch 14/50 [Test]: 100%|██████████| 40/40 [00:06<00:00,  6.33it/s, acc=55.89%, loss=1.197]\n",
            "Epoch 15/50 [Train]: 100%|██████████| 196/196 [00:45<00:00,  4.31it/s, acc=51.20%, loss=1.359, lr=1.0e-03]\n",
            "Epoch 15/50 [Test]: 100%|██████████| 40/40 [00:06<00:00,  6.48it/s, acc=58.92%, loss=1.137]\n",
            "Epoch 16/50 [Train]: 100%|██████████| 196/196 [00:44<00:00,  4.36it/s, acc=52.20%, loss=1.327, lr=1.0e-03]\n",
            "Epoch 16/50 [Test]: 100%|██████████| 40/40 [00:06<00:00,  6.36it/s, acc=61.45%, loss=1.093]\n"
          ]
        },
        {
          "output_type": "stream",
          "name": "stdout",
          "text": [
            "New best accuracy: 61.45%. Saving model...\n"
          ]
        },
        {
          "output_type": "stream",
          "name": "stderr",
          "text": [
            "Epoch 17/50 [Train]: 100%|██████████| 196/196 [00:44<00:00,  4.38it/s, acc=54.01%, loss=1.279, lr=9.9e-04]\n",
            "Epoch 17/50 [Test]: 100%|██████████| 40/40 [00:06<00:00,  6.39it/s, acc=63.14%, loss=1.026]\n"
          ]
        },
        {
          "output_type": "stream",
          "name": "stdout",
          "text": [
            "New best accuracy: 63.14%. Saving model...\n"
          ]
        },
        {
          "output_type": "stream",
          "name": "stderr",
          "text": [
            "Epoch 18/50 [Train]: 100%|██████████| 196/196 [00:44<00:00,  4.39it/s, acc=55.14%, loss=1.252, lr=9.8e-04]\n",
            "Epoch 18/50 [Test]: 100%|██████████| 40/40 [00:06<00:00,  6.51it/s, acc=64.64%, loss=0.984]\n"
          ]
        },
        {
          "output_type": "stream",
          "name": "stdout",
          "text": [
            "New best accuracy: 64.64%. Saving model...\n"
          ]
        },
        {
          "output_type": "stream",
          "name": "stderr",
          "text": [
            "Epoch 19/50 [Train]: 100%|██████████| 196/196 [00:44<00:00,  4.39it/s, acc=56.30%, loss=1.217, lr=9.7e-04]\n",
            "Epoch 19/50 [Test]: 100%|██████████| 40/40 [00:06<00:00,  6.46it/s, acc=66.15%, loss=0.951]\n"
          ]
        },
        {
          "output_type": "stream",
          "name": "stdout",
          "text": [
            "New best accuracy: 66.15%. Saving model...\n"
          ]
        },
        {
          "output_type": "stream",
          "name": "stderr",
          "text": [
            "Epoch 20/50 [Train]: 100%|██████████| 196/196 [00:45<00:00,  4.30it/s, acc=58.06%, loss=1.171, lr=9.5e-04]\n",
            "Epoch 20/50 [Test]: 100%|██████████| 40/40 [00:06<00:00,  6.42it/s, acc=66.15%, loss=0.961]\n",
            "Epoch 21/50 [Train]: 100%|██████████| 196/196 [00:45<00:00,  4.28it/s, acc=59.58%, loss=1.131, lr=9.3e-04]\n",
            "Epoch 21/50 [Test]: 100%|██████████| 40/40 [00:06<00:00,  6.41it/s, acc=68.95%, loss=0.868]\n"
          ]
        },
        {
          "output_type": "stream",
          "name": "stdout",
          "text": [
            "New best accuracy: 68.95%. Saving model...\n"
          ]
        },
        {
          "output_type": "stream",
          "name": "stderr",
          "text": [
            "Epoch 22/50 [Train]: 100%|██████████| 196/196 [00:45<00:00,  4.34it/s, acc=60.35%, loss=1.108, lr=9.0e-04]\n",
            "Epoch 22/50 [Test]: 100%|██████████| 40/40 [00:06<00:00,  6.47it/s, acc=68.97%, loss=0.860]\n"
          ]
        },
        {
          "output_type": "stream",
          "name": "stdout",
          "text": [
            "New best accuracy: 68.97%. Saving model...\n"
          ]
        },
        {
          "output_type": "stream",
          "name": "stderr",
          "text": [
            "Epoch 23/50 [Train]: 100%|██████████| 196/196 [00:45<00:00,  4.30it/s, acc=61.38%, loss=1.080, lr=8.8e-04]\n",
            "Epoch 23/50 [Test]: 100%|██████████| 40/40 [00:06<00:00,  6.42it/s, acc=69.77%, loss=0.846]\n"
          ]
        },
        {
          "output_type": "stream",
          "name": "stdout",
          "text": [
            "New best accuracy: 69.77%. Saving model...\n"
          ]
        },
        {
          "output_type": "stream",
          "name": "stderr",
          "text": [
            "Epoch 24/50 [Train]: 100%|██████████| 196/196 [00:44<00:00,  4.38it/s, acc=62.37%, loss=1.051, lr=8.5e-04]\n",
            "Epoch 24/50 [Test]: 100%|██████████| 40/40 [00:06<00:00,  6.47it/s, acc=70.01%, loss=0.834]\n"
          ]
        },
        {
          "output_type": "stream",
          "name": "stdout",
          "text": [
            "New best accuracy: 70.01%. Saving model...\n"
          ]
        },
        {
          "output_type": "stream",
          "name": "stderr",
          "text": [
            "Epoch 25/50 [Train]: 100%|██████████| 196/196 [00:44<00:00,  4.45it/s, acc=63.71%, loss=1.024, lr=8.1e-04]\n",
            "Epoch 25/50 [Test]: 100%|██████████| 40/40 [00:06<00:00,  6.25it/s, acc=70.63%, loss=0.829]\n"
          ]
        },
        {
          "output_type": "stream",
          "name": "stdout",
          "text": [
            "New best accuracy: 70.63%. Saving model...\n"
          ]
        },
        {
          "output_type": "stream",
          "name": "stderr",
          "text": [
            "Epoch 26/50 [Train]: 100%|██████████| 196/196 [00:44<00:00,  4.41it/s, acc=65.08%, loss=0.985, lr=7.8e-04]\n",
            "Epoch 26/50 [Test]: 100%|██████████| 40/40 [00:06<00:00,  6.18it/s, acc=72.31%, loss=0.786]\n"
          ]
        },
        {
          "output_type": "stream",
          "name": "stdout",
          "text": [
            "New best accuracy: 72.31%. Saving model...\n"
          ]
        },
        {
          "output_type": "stream",
          "name": "stderr",
          "text": [
            "Epoch 27/50 [Train]: 100%|██████████| 196/196 [00:43<00:00,  4.50it/s, acc=65.68%, loss=0.964, lr=7.4e-04]\n",
            "Epoch 27/50 [Test]: 100%|██████████| 40/40 [00:06<00:00,  6.50it/s, acc=73.90%, loss=0.736]\n"
          ]
        },
        {
          "output_type": "stream",
          "name": "stdout",
          "text": [
            "New best accuracy: 73.90%. Saving model...\n"
          ]
        },
        {
          "output_type": "stream",
          "name": "stderr",
          "text": [
            "Epoch 28/50 [Train]: 100%|██████████| 196/196 [00:43<00:00,  4.54it/s, acc=66.94%, loss=0.932, lr=7.0e-04]\n",
            "Epoch 28/50 [Test]: 100%|██████████| 40/40 [00:06<00:00,  6.33it/s, acc=74.06%, loss=0.725]\n"
          ]
        },
        {
          "output_type": "stream",
          "name": "stdout",
          "text": [
            "New best accuracy: 74.06%. Saving model...\n"
          ]
        },
        {
          "output_type": "stream",
          "name": "stderr",
          "text": [
            "Epoch 29/50 [Train]: 100%|██████████| 196/196 [00:44<00:00,  4.40it/s, acc=68.06%, loss=0.907, lr=6.5e-04]\n",
            "Epoch 29/50 [Test]: 100%|██████████| 40/40 [00:06<00:00,  6.19it/s, acc=75.43%, loss=0.693]\n"
          ]
        },
        {
          "output_type": "stream",
          "name": "stdout",
          "text": [
            "New best accuracy: 75.43%. Saving model...\n"
          ]
        },
        {
          "output_type": "stream",
          "name": "stderr",
          "text": [
            "Epoch 30/50 [Train]: 100%|██████████| 196/196 [00:44<00:00,  4.44it/s, acc=68.59%, loss=0.890, lr=6.1e-04]\n",
            "Epoch 30/50 [Test]: 100%|██████████| 40/40 [00:06<00:00,  6.39it/s, acc=76.40%, loss=0.667]\n"
          ]
        },
        {
          "output_type": "stream",
          "name": "stdout",
          "text": [
            "New best accuracy: 76.40%. Saving model...\n"
          ]
        },
        {
          "output_type": "stream",
          "name": "stderr",
          "text": [
            "Epoch 31/50 [Train]: 100%|██████████| 196/196 [00:44<00:00,  4.39it/s, acc=69.72%, loss=0.859, lr=5.7e-04]\n",
            "Epoch 31/50 [Test]: 100%|██████████| 40/40 [00:06<00:00,  6.41it/s, acc=76.94%, loss=0.638]\n"
          ]
        },
        {
          "output_type": "stream",
          "name": "stdout",
          "text": [
            "New best accuracy: 76.94%. Saving model...\n"
          ]
        },
        {
          "output_type": "stream",
          "name": "stderr",
          "text": [
            "Epoch 32/50 [Train]: 100%|██████████| 196/196 [00:45<00:00,  4.34it/s, acc=70.56%, loss=0.832, lr=5.2e-04]\n",
            "Epoch 32/50 [Test]: 100%|██████████| 40/40 [00:06<00:00,  6.47it/s, acc=76.95%, loss=0.649]\n"
          ]
        },
        {
          "output_type": "stream",
          "name": "stdout",
          "text": [
            "New best accuracy: 76.95%. Saving model...\n"
          ]
        },
        {
          "output_type": "stream",
          "name": "stderr",
          "text": [
            "Epoch 33/50 [Train]: 100%|██████████| 196/196 [00:44<00:00,  4.37it/s, acc=71.12%, loss=0.813, lr=4.8e-04]\n",
            "Epoch 33/50 [Test]: 100%|██████████| 40/40 [00:06<00:00,  6.48it/s, acc=76.95%, loss=0.642]\n",
            "Epoch 34/50 [Train]: 100%|██████████| 196/196 [00:44<00:00,  4.36it/s, acc=72.21%, loss=0.789, lr=4.3e-04]\n",
            "Epoch 34/50 [Test]: 100%|██████████| 40/40 [00:06<00:00,  6.37it/s, acc=79.71%, loss=0.588]\n"
          ]
        },
        {
          "output_type": "stream",
          "name": "stdout",
          "text": [
            "New best accuracy: 79.71%. Saving model...\n"
          ]
        },
        {
          "output_type": "stream",
          "name": "stderr",
          "text": [
            "Epoch 35/50 [Train]: 100%|██████████| 196/196 [00:44<00:00,  4.44it/s, acc=72.99%, loss=0.767, lr=3.9e-04]\n",
            "Epoch 35/50 [Test]: 100%|██████████| 40/40 [00:06<00:00,  6.18it/s, acc=79.24%, loss=0.589]\n",
            "Epoch 36/50 [Train]: 100%|██████████| 196/196 [00:44<00:00,  4.45it/s, acc=73.61%, loss=0.750, lr=3.5e-04]\n",
            "Epoch 36/50 [Test]: 100%|██████████| 40/40 [00:06<00:00,  6.13it/s, acc=79.79%, loss=0.574]\n"
          ]
        },
        {
          "output_type": "stream",
          "name": "stdout",
          "text": [
            "New best accuracy: 79.79%. Saving model...\n"
          ]
        },
        {
          "output_type": "stream",
          "name": "stderr",
          "text": [
            "Epoch 37/50 [Train]: 100%|██████████| 196/196 [00:45<00:00,  4.28it/s, acc=74.22%, loss=0.726, lr=3.0e-04]\n",
            "Epoch 37/50 [Test]: 100%|██████████| 40/40 [00:06<00:00,  6.01it/s, acc=80.10%, loss=0.560]\n"
          ]
        },
        {
          "output_type": "stream",
          "name": "stdout",
          "text": [
            "New best accuracy: 80.10%. Saving model...\n"
          ]
        },
        {
          "output_type": "stream",
          "name": "stderr",
          "text": [
            "Epoch 38/50 [Train]: 100%|██████████| 196/196 [00:45<00:00,  4.33it/s, acc=75.34%, loss=0.697, lr=2.6e-04]\n",
            "Epoch 38/50 [Test]: 100%|██████████| 40/40 [00:06<00:00,  6.15it/s, acc=81.46%, loss=0.533]\n"
          ]
        },
        {
          "output_type": "stream",
          "name": "stdout",
          "text": [
            "New best accuracy: 81.46%. Saving model...\n"
          ]
        },
        {
          "output_type": "stream",
          "name": "stderr",
          "text": [
            "Epoch 39/50 [Train]: 100%|██████████| 196/196 [00:45<00:00,  4.27it/s, acc=75.57%, loss=0.689, lr=2.2e-04]\n",
            "Epoch 39/50 [Test]: 100%|██████████| 40/40 [00:06<00:00,  6.15it/s, acc=81.51%, loss=0.526]\n"
          ]
        },
        {
          "output_type": "stream",
          "name": "stdout",
          "text": [
            "New best accuracy: 81.51%. Saving model...\n"
          ]
        },
        {
          "output_type": "stream",
          "name": "stderr",
          "text": [
            "Epoch 40/50 [Train]: 100%|██████████| 196/196 [00:44<00:00,  4.40it/s, acc=76.39%, loss=0.663, lr=1.9e-04]\n",
            "Epoch 40/50 [Test]: 100%|██████████| 40/40 [00:06<00:00,  6.36it/s, acc=81.61%, loss=0.522]\n"
          ]
        },
        {
          "output_type": "stream",
          "name": "stdout",
          "text": [
            "New best accuracy: 81.61%. Saving model...\n"
          ]
        },
        {
          "output_type": "stream",
          "name": "stderr",
          "text": [
            "Epoch 41/50 [Train]: 100%|██████████| 196/196 [00:44<00:00,  4.37it/s, acc=77.12%, loss=0.648, lr=1.5e-04]\n",
            "Epoch 41/50 [Test]: 100%|██████████| 40/40 [00:06<00:00,  6.37it/s, acc=82.13%, loss=0.505]\n"
          ]
        },
        {
          "output_type": "stream",
          "name": "stdout",
          "text": [
            "New best accuracy: 82.13%. Saving model...\n"
          ]
        },
        {
          "output_type": "stream",
          "name": "stderr",
          "text": [
            "Epoch 42/50 [Train]: 100%|██████████| 196/196 [00:44<00:00,  4.38it/s, acc=77.56%, loss=0.631, lr=1.2e-04]\n",
            "Epoch 42/50 [Test]: 100%|██████████| 40/40 [00:06<00:00,  6.45it/s, acc=82.52%, loss=0.503]\n"
          ]
        },
        {
          "output_type": "stream",
          "name": "stdout",
          "text": [
            "New best accuracy: 82.52%. Saving model...\n"
          ]
        },
        {
          "output_type": "stream",
          "name": "stderr",
          "text": [
            "Epoch 43/50 [Train]: 100%|██████████| 196/196 [00:44<00:00,  4.44it/s, acc=78.15%, loss=0.617, lr=9.5e-05]\n",
            "Epoch 43/50 [Test]: 100%|██████████| 40/40 [00:06<00:00,  6.38it/s, acc=82.52%, loss=0.494]\n",
            "Epoch 44/50 [Train]: 100%|██████████| 196/196 [00:44<00:00,  4.41it/s, acc=78.57%, loss=0.607, lr=7.1e-05]\n",
            "Epoch 44/50 [Test]: 100%|██████████| 40/40 [00:06<00:00,  6.40it/s, acc=82.80%, loss=0.481]\n"
          ]
        },
        {
          "output_type": "stream",
          "name": "stdout",
          "text": [
            "New best accuracy: 82.80%. Saving model...\n"
          ]
        },
        {
          "output_type": "stream",
          "name": "stderr",
          "text": [
            "Epoch 45/50 [Train]: 100%|██████████| 196/196 [00:44<00:00,  4.37it/s, acc=78.89%, loss=0.597, lr=4.9e-05]\n",
            "Epoch 45/50 [Test]: 100%|██████████| 40/40 [00:06<00:00,  6.40it/s, acc=82.99%, loss=0.483]\n"
          ]
        },
        {
          "output_type": "stream",
          "name": "stdout",
          "text": [
            "New best accuracy: 82.99%. Saving model...\n"
          ]
        },
        {
          "output_type": "stream",
          "name": "stderr",
          "text": [
            "Epoch 46/50 [Train]: 100%|██████████| 196/196 [00:45<00:00,  4.26it/s, acc=79.11%, loss=0.588, lr=3.2e-05]\n",
            "Epoch 46/50 [Test]: 100%|██████████| 40/40 [00:06<00:00,  6.42it/s, acc=83.12%, loss=0.481]\n"
          ]
        },
        {
          "output_type": "stream",
          "name": "stdout",
          "text": [
            "New best accuracy: 83.12%. Saving model...\n"
          ]
        },
        {
          "output_type": "stream",
          "name": "stderr",
          "text": [
            "Epoch 47/50 [Train]: 100%|██████████| 196/196 [00:46<00:00,  4.26it/s, acc=79.41%, loss=0.582, lr=1.8e-05]\n",
            "Epoch 47/50 [Test]: 100%|██████████| 40/40 [00:06<00:00,  6.41it/s, acc=83.31%, loss=0.475]\n"
          ]
        },
        {
          "output_type": "stream",
          "name": "stdout",
          "text": [
            "New best accuracy: 83.31%. Saving model...\n"
          ]
        },
        {
          "output_type": "stream",
          "name": "stderr",
          "text": [
            "Epoch 48/50 [Train]: 100%|██████████| 196/196 [00:44<00:00,  4.36it/s, acc=79.75%, loss=0.573, lr=8.0e-06]\n",
            "Epoch 48/50 [Test]: 100%|██████████| 40/40 [00:06<00:00,  6.41it/s, acc=83.39%, loss=0.475]\n"
          ]
        },
        {
          "output_type": "stream",
          "name": "stdout",
          "text": [
            "New best accuracy: 83.39%. Saving model...\n"
          ]
        },
        {
          "output_type": "stream",
          "name": "stderr",
          "text": [
            "Epoch 49/50 [Train]: 100%|██████████| 196/196 [00:44<00:00,  4.36it/s, acc=79.79%, loss=0.572, lr=2.0e-06]\n",
            "Epoch 49/50 [Test]: 100%|██████████| 40/40 [00:06<00:00,  6.45it/s, acc=83.45%, loss=0.474]\n"
          ]
        },
        {
          "output_type": "stream",
          "name": "stdout",
          "text": [
            "New best accuracy: 83.45%. Saving model...\n"
          ]
        },
        {
          "output_type": "stream",
          "name": "stderr",
          "text": [
            "Epoch 50/50 [Train]: 100%|██████████| 196/196 [00:45<00:00,  4.34it/s, acc=79.68%, loss=0.571, lr=4.1e-09]\n",
            "Epoch 50/50 [Test]: 100%|██████████| 40/40 [00:06<00:00,  6.43it/s, acc=83.47%, loss=0.474]"
          ]
        },
        {
          "output_type": "stream",
          "name": "stdout",
          "text": [
            "New best accuracy: 83.47%. Saving model...\n",
            "\n",
            "--- Training Finished ---\n",
            "Total Training Time: 42.66 minutes\n",
            "Best Test Accuracy: 83.47%\n"
          ]
        },
        {
          "output_type": "stream",
          "name": "stderr",
          "text": [
            "\n"
          ]
        }
      ]
    },
    {
      "cell_type": "markdown",
      "source": [
        "VERSION-2"
      ],
      "metadata": {
        "id": "-6iE691JTr8_"
      }
    },
    {
      "cell_type": "code",
      "source": [
        "import torch\n",
        "import torch.nn as nn\n",
        "import torch.optim as optim\n",
        "import torchvision\n",
        "import torchvision.transforms as transforms\n",
        "from torchvision.ops import StochasticDepth\n",
        "from torch.utils.data import DataLoader\n",
        "from torch.cuda.amp import autocast, GradScaler\n",
        "from torch.optim.lr_scheduler import OneCycleLR\n",
        "from tqdm import tqdm\n",
        "import time\n",
        "\n",
        "\n",
        "device = torch.device(\"cuda\" if torch.cuda.is_available() else \"cpu\")\n",
        "print(f\"Using device: {device}\")\n",
        "use_compile = hasattr(torch, 'compile')\n",
        "print(f\"PyTorch Version: {torch.__version__}, using torch.compile: {use_compile}\")"
      ],
      "metadata": {
        "colab": {
          "base_uri": "https://localhost:8080/"
        },
        "id": "urdkuipX2hOP",
        "outputId": "621878a4-8cf4-43f3-a0a7-48dd6c96011f"
      },
      "execution_count": 18,
      "outputs": [
        {
          "output_type": "stream",
          "name": "stdout",
          "text": [
            "Using device: cuda\n",
            "PyTorch Version: 2.8.0+cu126, using torch.compile: True\n"
          ]
        }
      ]
    },
    {
      "cell_type": "code",
      "source": [
        "config = {\n",
        "\n",
        "    \"image_size\": 32,\n",
        "    \"in_channels\": 3,\n",
        "    \"num_classes\": 10,\n",
        "\n",
        "\n",
        "    \"patch_size\": 4,\n",
        "    \"embed_dim\": 512,\n",
        "    \"depth\": 6,\n",
        "    \"heads\": 8,\n",
        "    \"mlp_dim\": 1024,\n",
        "    \"dropout\": 0.1,\n",
        "    \"stochastic_depth_prob\": 0.1,\n",
        "\n",
        "\n",
        "    \"learning_rate\": 1e-3,\n",
        "    \"weight_decay\": 5e-5,\n",
        "    \"batch_size\": 256,\n",
        "    \"epochs\": 100,\n",
        "    \"label_smoothing\": 0.1,\n",
        "}\n",
        "\n",
        "\n",
        "config[\"num_patches\"] = (config[\"image_size\"] // config[\"patch_size\"]) ** 2"
      ],
      "metadata": {
        "id": "nHxRAdvYV-Ml"
      },
      "execution_count": 19,
      "outputs": []
    },
    {
      "cell_type": "code",
      "source": [
        "\n",
        "transform_train = transforms.Compose([\n",
        "    transforms.RandomCrop(config[\"image_size\"], padding=4),\n",
        "    transforms.RandomHorizontalFlip(),\n",
        "    transforms.RandAugment(num_ops=2, magnitude=9),\n",
        "    transforms.ToTensor(),\n",
        "    transforms.Normalize((0.4914, 0.4822, 0.4465), (0.2023, 0.1994, 0.2010)),\n",
        "    transforms.RandomErasing(p=0.25),\n",
        "])\n",
        "\n",
        "transform_test = transforms.Compose([\n",
        "    transforms.ToTensor(),\n",
        "    transforms.Normalize((0.4914, 0.4822, 0.4465), (0.2023, 0.1994, 0.2010)),\n",
        "])\n",
        "\n",
        "\n",
        "print(\"Downloading and setting up datasets...\")\n",
        "trainset = torchvision.datasets.CIFAR10(\n",
        "    root='./data', train=True, download=True, transform=transform_train)\n",
        "trainloader = DataLoader(\n",
        "    trainset, batch_size=config[\"batch_size\"], shuffle=True, num_workers=4, pin_memory=True)\n",
        "\n",
        "testset = torchvision.datasets.CIFAR10(\n",
        "    root='./data', train=False, download=True, transform=transform_test)\n",
        "testloader = DataLoader(\n",
        "    testset, batch_size=config[\"batch_size\"], shuffle=False, num_workers=4, pin_memory=True)\n",
        "print(\"Data setup complete.\")"
      ],
      "metadata": {
        "colab": {
          "base_uri": "https://localhost:8080/"
        },
        "id": "GMOJftkyWAtP",
        "outputId": "6cd56546-c68a-4ad7-c759-15bb055a71c5"
      },
      "execution_count": 20,
      "outputs": [
        {
          "output_type": "stream",
          "name": "stdout",
          "text": [
            "Downloading and setting up datasets...\n",
            "Data setup complete.\n"
          ]
        }
      ]
    },
    {
      "cell_type": "code",
      "source": [
        "class PatchEmbedding(nn.Module):\n",
        "\n",
        "    def __init__(self, config):\n",
        "        super().__init__()\n",
        "        self.patch_size = config[\"patch_size\"]\n",
        "        self.embed_dim = config[\"embed_dim\"]\n",
        "        self.projection = nn.Conv2d(config[\"in_channels\"], self.embed_dim, kernel_size=self.patch_size, stride=self.patch_size)\n",
        "        self.cls_token = nn.Parameter(torch.randn(1, 1, self.embed_dim))\n",
        "        self.positional_embedding = nn.Parameter(torch.randn(1, config[\"num_patches\"] + 1, self.embed_dim))\n",
        "\n",
        "    def forward(self, x):\n",
        "        x = self.projection(x).flatten(2).transpose(1, 2)\n",
        "        cls_tokens = self.cls_token.expand(x.shape[0], -1, -1)\n",
        "        x = torch.cat((cls_tokens, x), dim=1)\n",
        "        x += self.positional_embedding\n",
        "        return x\n",
        "\n",
        "class TransformerEncoder(nn.Module):\n",
        "\n",
        "    def __init__(self, embed_dim, heads, mlp_dim, dropout, stochastic_depth_prob):\n",
        "        super().__init__()\n",
        "        self.norm1 = nn.LayerNorm(embed_dim)\n",
        "        self.attention = nn.MultiheadAttention(embed_dim, heads, dropout=dropout, batch_first=True)\n",
        "        self.norm2 = nn.LayerNorm(embed_dim)\n",
        "        self.mlp = nn.Sequential(\n",
        "            nn.Linear(embed_dim, mlp_dim),\n",
        "            nn.GELU(),\n",
        "            nn.Dropout(dropout),\n",
        "            nn.Linear(mlp_dim, embed_dim),\n",
        "            nn.Dropout(dropout)\n",
        "        )\n",
        "        self.stochastic_depth = StochasticDepth(stochastic_depth_prob, \"row\")\n",
        "\n",
        "    def forward(self, x):\n",
        "        attn_output = self.attention(self.norm1(x), self.norm1(x), self.norm1(x))[0]\n",
        "        x = x + self.stochastic_depth(attn_output)\n",
        "        mlp_output = self.mlp(self.norm2(x))\n",
        "        x = x + self.stochastic_depth(mlp_output)\n",
        "        return x\n",
        "\n",
        "class VisionTransformer(nn.Module):\n",
        "    def __init__(self, config):\n",
        "        super().__init__()\n",
        "        self.patch_embedding = PatchEmbedding(config)\n",
        "\n",
        "\n",
        "        self.encoder_layers = nn.ModuleList([\n",
        "            TransformerEncoder(\n",
        "                config[\"embed_dim\"],\n",
        "                config[\"heads\"],\n",
        "                config[\"mlp_dim\"],\n",
        "                config[\"dropout\"],\n",
        "                config[\"stochastic_depth_prob\"]\n",
        "            )\n",
        "            for _ in range(config[\"depth\"])\n",
        "        ])\n",
        "\n",
        "        self.norm = nn.LayerNorm(config[\"embed_dim\"])\n",
        "        self.classifier = nn.Linear(config[\"embed_dim\"], config[\"num_classes\"])\n",
        "\n",
        "    def forward(self, x):\n",
        "        x = self.patch_embedding(x)\n",
        "        for layer in self.encoder_layers:\n",
        "            x = layer(x)\n",
        "        cls_token_final = self.norm(x[:, 0])\n",
        "        return self.classifier(cls_token_final)"
      ],
      "metadata": {
        "id": "JgXUrho1WCz-"
      },
      "execution_count": 21,
      "outputs": []
    },
    {
      "cell_type": "code",
      "source": [
        "\n",
        "\n",
        "def train(epoch):\n",
        "    model.train()\n",
        "    train_loss = 0\n",
        "    correct = 0\n",
        "    total = 0\n",
        "    progress_bar = tqdm(trainloader, desc=f\"Epoch {epoch+1}/{config['epochs']} [Train]\")\n",
        "\n",
        "    for batch_idx, (inputs, targets) in enumerate(progress_bar):\n",
        "        inputs, targets = inputs.to(device), targets.to(device)\n",
        "        optimizer.zero_grad()\n",
        "\n",
        "        with torch.amp.autocast(device_type=device.type, dtype=torch.float16):\n",
        "            outputs = model(inputs)\n",
        "            loss = criterion(outputs, targets)\n",
        "\n",
        "        scaler.scale(loss).backward()\n",
        "        scaler.step(optimizer)\n",
        "        scaler.update()\n",
        "        scheduler.step()\n",
        "\n",
        "        train_loss += loss.item()\n",
        "        _, predicted = outputs.max(1)\n",
        "        total += targets.size(0)\n",
        "        correct += predicted.eq(targets).sum().item()\n",
        "\n",
        "        progress_bar.set_postfix(\n",
        "            loss=f'{train_loss/(batch_idx+1):.3f}',\n",
        "            acc=f'{100.*correct/total:.2f}%',\n",
        "            lr=f'{scheduler.get_last_lr()[0]:.1e}'\n",
        "        )\n",
        "\n",
        "def test(epoch):\n",
        "    global best_acc\n",
        "    model.eval()\n",
        "    test_loss = 0\n",
        "    correct = 0\n",
        "    total = 0\n",
        "    progress_bar = tqdm(testloader, desc=f\"Epoch {epoch+1}/{config['epochs']} [Test]\")\n",
        "    with torch.no_grad():\n",
        "        for batch_idx, (inputs, targets) in enumerate(progress_bar):\n",
        "            inputs, targets = inputs.to(device), targets.to(device)\n",
        "            outputs = model(inputs)\n",
        "            loss = criterion(outputs, targets)\n",
        "\n",
        "            test_loss += loss.item()\n",
        "            _, predicted = outputs.max(1)\n",
        "            total += targets.size(0)\n",
        "            correct += predicted.eq(targets).sum().item()\n",
        "\n",
        "            progress_bar.set_postfix(\n",
        "                loss=f'{test_loss/(batch_idx+1):.3f}',\n",
        "                acc=f'{100.*correct/total:.2f}%'\n",
        "            )\n",
        "\n",
        "    acc = 100. * correct / total\n",
        "    if acc > best_acc:\n",
        "        print(f'New best accuracy: {acc:.2f}%.')\n",
        "        best_acc = acc\n",
        "\n",
        "    return acc"
      ],
      "metadata": {
        "id": "_wVnJxhXWFWX"
      },
      "execution_count": 22,
      "outputs": []
    },
    {
      "cell_type": "code",
      "source": [
        "print(\"Initializing model for training...\")\n",
        "model = VisionTransformer(config).to(device)\n",
        "\n",
        "if use_compile:\n",
        "    print(\"Using torch.compile for model optimization.\")\n",
        "    model = torch.compile(model)\n",
        "\n",
        "criterion = nn.CrossEntropyLoss(label_smoothing=config[\"label_smoothing\"])\n",
        "\n",
        "optimizer = optim.AdamW(model.parameters(), lr=config[\"learning_rate\"], weight_decay=config[\"weight_decay\"])\n",
        "scheduler = OneCycleLR(optimizer, max_lr=config[\"learning_rate\"], steps_per_epoch=len(trainloader), epochs=config[\"epochs\"])\n",
        "scaler = torch.amp.GradScaler(device.type)\n",
        "\n",
        "print(\"Model and training components initialized.\")\n",
        "\n",
        "\n",
        "best_acc = 0.0\n",
        "start_time = time.time()\n",
        "print(\"\\nStarting training...\")\n",
        "\n",
        "for epoch in range(config['epochs']):\n",
        "    train(epoch)\n",
        "    current_acc = test(epoch)\n",
        "\n",
        "end_time = time.time()\n",
        "total_time = end_time - start_time\n",
        "\n",
        "print(\"\\n--- Training Finished ---\")\n",
        "print(f\"Total Training Time: {total_time/60:.2f} minutes\")\n",
        "print(f\"Best Test Accuracy: {best_acc:.2f}%\")"
      ],
      "metadata": {
        "colab": {
          "base_uri": "https://localhost:8080/"
        },
        "id": "ar6QTToxWIto",
        "outputId": "5f417017-a6db-440c-c5b1-29a3b07bdab4"
      },
      "execution_count": 23,
      "outputs": [
        {
          "output_type": "stream",
          "name": "stdout",
          "text": [
            "Initializing model for training...\n",
            "Using torch.compile for model optimization.\n",
            "Model and training components initialized.\n",
            "\n",
            "Starting training...\n"
          ]
        },
        {
          "output_type": "stream",
          "name": "stderr",
          "text": [
            "Epoch 1/100 [Train]: 100%|██████████| 196/196 [01:51<00:00,  1.75it/s, acc=22.74%, loss=2.133, lr=4.3e-05]\n",
            "Epoch 1/100 [Test]:   0%|          | 0/40 [00:00<?, ?it/s]/usr/local/lib/python3.12/dist-packages/torch/utils/data/dataloader.py:627: UserWarning: This DataLoader will create 4 worker processes in total. Our suggested max number of worker in current system is 2, which is smaller than what this DataLoader is going to create. Please be aware that excessive worker creation might get DataLoader running slow or even freeze, lower the worker number to avoid potential slowness/freeze if necessary.\n",
            "  warnings.warn(\n",
            "Epoch 1/100 [Test]: 100%|██████████| 40/40 [00:12<00:00,  3.30it/s, acc=33.34%, loss=1.897]\n"
          ]
        },
        {
          "output_type": "stream",
          "name": "stdout",
          "text": [
            "New best accuracy: 33.34%.\n"
          ]
        },
        {
          "output_type": "stream",
          "name": "stderr",
          "text": [
            "\rEpoch 2/100 [Train]:   0%|          | 0/196 [00:00<?, ?it/s]/usr/local/lib/python3.12/dist-packages/torch/utils/data/dataloader.py:627: UserWarning: This DataLoader will create 4 worker processes in total. Our suggested max number of worker in current system is 2, which is smaller than what this DataLoader is going to create. Please be aware that excessive worker creation might get DataLoader running slow or even freeze, lower the worker number to avoid potential slowness/freeze if necessary.\n",
            "  warnings.warn(\n",
            "Epoch 2/100 [Train]: 100%|██████████| 196/196 [00:43<00:00,  4.46it/s, acc=31.20%, loss=1.977, lr=5.0e-05]\n",
            "Epoch 2/100 [Test]: 100%|██████████| 40/40 [00:06<00:00,  6.44it/s, acc=42.55%, loss=1.756]\n"
          ]
        },
        {
          "output_type": "stream",
          "name": "stdout",
          "text": [
            "New best accuracy: 42.55%.\n"
          ]
        },
        {
          "output_type": "stream",
          "name": "stderr",
          "text": [
            "Epoch 3/100 [Train]: 100%|██████████| 196/196 [00:44<00:00,  4.44it/s, acc=35.97%, loss=1.887, lr=6.4e-05]\n",
            "Epoch 3/100 [Test]: 100%|██████████| 40/40 [00:06<00:00,  6.34it/s, acc=48.47%, loss=1.630]\n"
          ]
        },
        {
          "output_type": "stream",
          "name": "stdout",
          "text": [
            "New best accuracy: 48.47%.\n"
          ]
        },
        {
          "output_type": "stream",
          "name": "stderr",
          "text": [
            "Epoch 4/100 [Train]: 100%|██████████| 196/196 [00:43<00:00,  4.47it/s, acc=38.81%, loss=1.826, lr=8.2e-05]\n",
            "Epoch 4/100 [Test]: 100%|██████████| 40/40 [00:06<00:00,  6.41it/s, acc=51.22%, loss=1.584]\n"
          ]
        },
        {
          "output_type": "stream",
          "name": "stdout",
          "text": [
            "New best accuracy: 51.22%.\n"
          ]
        },
        {
          "output_type": "stream",
          "name": "stderr",
          "text": [
            "Epoch 5/100 [Train]: 100%|██████████| 196/196 [00:44<00:00,  4.41it/s, acc=41.24%, loss=1.777, lr=1.0e-04]\n",
            "Epoch 5/100 [Test]: 100%|██████████| 40/40 [00:06<00:00,  6.31it/s, acc=53.35%, loss=1.525]\n"
          ]
        },
        {
          "output_type": "stream",
          "name": "stdout",
          "text": [
            "New best accuracy: 53.35%.\n"
          ]
        },
        {
          "output_type": "stream",
          "name": "stderr",
          "text": [
            "Epoch 6/100 [Train]: 100%|██████████| 196/196 [00:44<00:00,  4.42it/s, acc=42.92%, loss=1.741, lr=1.3e-04]\n",
            "Epoch 6/100 [Test]: 100%|██████████| 40/40 [00:06<00:00,  6.34it/s, acc=54.19%, loss=1.503]\n"
          ]
        },
        {
          "output_type": "stream",
          "name": "stdout",
          "text": [
            "New best accuracy: 54.19%.\n"
          ]
        },
        {
          "output_type": "stream",
          "name": "stderr",
          "text": [
            "Epoch 7/100 [Train]: 100%|██████████| 196/196 [00:44<00:00,  4.40it/s, acc=44.60%, loss=1.703, lr=1.6e-04]\n",
            "Epoch 7/100 [Test]: 100%|██████████| 40/40 [00:06<00:00,  6.44it/s, acc=55.31%, loss=1.464]\n"
          ]
        },
        {
          "output_type": "stream",
          "name": "stdout",
          "text": [
            "New best accuracy: 55.31%.\n"
          ]
        },
        {
          "output_type": "stream",
          "name": "stderr",
          "text": [
            "Epoch 8/100 [Train]: 100%|██████████| 196/196 [00:45<00:00,  4.34it/s, acc=46.02%, loss=1.672, lr=2.0e-04]\n",
            "Epoch 8/100 [Test]: 100%|██████████| 40/40 [00:06<00:00,  6.44it/s, acc=56.60%, loss=1.457]\n"
          ]
        },
        {
          "output_type": "stream",
          "name": "stdout",
          "text": [
            "New best accuracy: 56.60%.\n"
          ]
        },
        {
          "output_type": "stream",
          "name": "stderr",
          "text": [
            "Epoch 9/100 [Train]: 100%|██████████| 196/196 [00:45<00:00,  4.34it/s, acc=47.17%, loss=1.651, lr=2.4e-04]\n",
            "Epoch 9/100 [Test]: 100%|██████████| 40/40 [00:06<00:00,  6.40it/s, acc=57.20%, loss=1.437]\n"
          ]
        },
        {
          "output_type": "stream",
          "name": "stdout",
          "text": [
            "New best accuracy: 57.20%.\n"
          ]
        },
        {
          "output_type": "stream",
          "name": "stderr",
          "text": [
            "Epoch 10/100 [Train]: 100%|██████████| 196/196 [00:45<00:00,  4.33it/s, acc=48.35%, loss=1.625, lr=2.8e-04]\n",
            "Epoch 10/100 [Test]: 100%|██████████| 40/40 [00:06<00:00,  6.36it/s, acc=57.94%, loss=1.433]\n"
          ]
        },
        {
          "output_type": "stream",
          "name": "stdout",
          "text": [
            "New best accuracy: 57.94%.\n"
          ]
        },
        {
          "output_type": "stream",
          "name": "stderr",
          "text": [
            "Epoch 11/100 [Train]: 100%|██████████| 196/196 [00:45<00:00,  4.29it/s, acc=49.31%, loss=1.603, lr=3.2e-04]\n",
            "Epoch 11/100 [Test]: 100%|██████████| 40/40 [00:06<00:00,  6.43it/s, acc=58.47%, loss=1.387]\n"
          ]
        },
        {
          "output_type": "stream",
          "name": "stdout",
          "text": [
            "New best accuracy: 58.47%.\n"
          ]
        },
        {
          "output_type": "stream",
          "name": "stderr",
          "text": [
            "Epoch 12/100 [Train]: 100%|██████████| 196/196 [00:45<00:00,  4.29it/s, acc=49.82%, loss=1.594, lr=3.7e-04]\n",
            "Epoch 12/100 [Test]: 100%|██████████| 40/40 [00:06<00:00,  6.35it/s, acc=60.31%, loss=1.364]\n"
          ]
        },
        {
          "output_type": "stream",
          "name": "stdout",
          "text": [
            "New best accuracy: 60.31%.\n"
          ]
        },
        {
          "output_type": "stream",
          "name": "stderr",
          "text": [
            "Epoch 13/100 [Train]: 100%|██████████| 196/196 [00:45<00:00,  4.28it/s, acc=50.22%, loss=1.580, lr=4.2e-04]\n",
            "Epoch 13/100 [Test]: 100%|██████████| 40/40 [00:06<00:00,  6.40it/s, acc=60.25%, loss=1.371]\n",
            "Epoch 14/100 [Train]: 100%|██████████| 196/196 [00:45<00:00,  4.31it/s, acc=50.94%, loss=1.567, lr=4.7e-04]\n",
            "Epoch 14/100 [Test]: 100%|██████████| 40/40 [00:06<00:00,  6.39it/s, acc=58.45%, loss=1.383]\n",
            "Epoch 15/100 [Train]: 100%|██████████| 196/196 [00:45<00:00,  4.29it/s, acc=51.30%, loss=1.559, lr=5.2e-04]\n",
            "Epoch 15/100 [Test]: 100%|██████████| 40/40 [00:06<00:00,  6.40it/s, acc=59.32%, loss=1.376]\n",
            "Epoch 16/100 [Train]: 100%|██████████| 196/196 [00:46<00:00,  4.21it/s, acc=51.59%, loss=1.556, lr=5.7e-04]\n",
            "Epoch 16/100 [Test]: 100%|██████████| 40/40 [00:06<00:00,  6.46it/s, acc=63.31%, loss=1.302]\n"
          ]
        },
        {
          "output_type": "stream",
          "name": "stdout",
          "text": [
            "New best accuracy: 63.31%.\n"
          ]
        },
        {
          "output_type": "stream",
          "name": "stderr",
          "text": [
            "Epoch 17/100 [Train]: 100%|██████████| 196/196 [00:46<00:00,  4.19it/s, acc=52.05%, loss=1.543, lr=6.2e-04]\n",
            "Epoch 17/100 [Test]: 100%|██████████| 40/40 [00:06<00:00,  6.41it/s, acc=62.25%, loss=1.329]\n",
            "Epoch 18/100 [Train]: 100%|██████████| 196/196 [00:46<00:00,  4.26it/s, acc=52.15%, loss=1.541, lr=6.7e-04]\n",
            "Epoch 18/100 [Test]: 100%|██████████| 40/40 [00:06<00:00,  6.41it/s, acc=62.79%, loss=1.321]\n",
            "Epoch 19/100 [Train]: 100%|██████████| 196/196 [00:46<00:00,  4.26it/s, acc=52.50%, loss=1.538, lr=7.2e-04]\n",
            "Epoch 19/100 [Test]: 100%|██████████| 40/40 [00:06<00:00,  6.41it/s, acc=62.25%, loss=1.313]\n",
            "Epoch 20/100 [Train]: 100%|██████████| 196/196 [00:45<00:00,  4.31it/s, acc=53.03%, loss=1.528, lr=7.6e-04]\n",
            "Epoch 20/100 [Test]: 100%|██████████| 40/40 [00:06<00:00,  6.35it/s, acc=62.15%, loss=1.329]\n",
            "Epoch 21/100 [Train]: 100%|██████████| 196/196 [00:44<00:00,  4.36it/s, acc=52.46%, loss=1.533, lr=8.0e-04]\n",
            "Epoch 21/100 [Test]: 100%|██████████| 40/40 [00:06<00:00,  6.49it/s, acc=62.50%, loss=1.325]\n",
            "Epoch 22/100 [Train]: 100%|██████████| 196/196 [00:44<00:00,  4.42it/s, acc=53.62%, loss=1.510, lr=8.4e-04]\n",
            "Epoch 22/100 [Test]: 100%|██████████| 40/40 [00:06<00:00,  6.36it/s, acc=63.30%, loss=1.315]\n",
            "Epoch 23/100 [Train]: 100%|██████████| 196/196 [00:43<00:00,  4.49it/s, acc=54.38%, loss=1.497, lr=8.8e-04]\n",
            "Epoch 23/100 [Test]: 100%|██████████| 40/40 [00:06<00:00,  6.19it/s, acc=66.25%, loss=1.245]\n"
          ]
        },
        {
          "output_type": "stream",
          "name": "stdout",
          "text": [
            "New best accuracy: 66.25%.\n"
          ]
        },
        {
          "output_type": "stream",
          "name": "stderr",
          "text": [
            "Epoch 24/100 [Train]: 100%|██████████| 196/196 [00:43<00:00,  4.52it/s, acc=54.97%, loss=1.488, lr=9.1e-04]\n",
            "Epoch 24/100 [Test]: 100%|██████████| 40/40 [00:06<00:00,  6.25it/s, acc=66.36%, loss=1.246]\n"
          ]
        },
        {
          "output_type": "stream",
          "name": "stdout",
          "text": [
            "New best accuracy: 66.36%.\n"
          ]
        },
        {
          "output_type": "stream",
          "name": "stderr",
          "text": [
            "Epoch 25/100 [Train]: 100%|██████████| 196/196 [00:43<00:00,  4.48it/s, acc=55.76%, loss=1.466, lr=9.4e-04]\n",
            "Epoch 25/100 [Test]: 100%|██████████| 40/40 [00:06<00:00,  6.42it/s, acc=66.68%, loss=1.241]\n"
          ]
        },
        {
          "output_type": "stream",
          "name": "stdout",
          "text": [
            "New best accuracy: 66.68%.\n"
          ]
        },
        {
          "output_type": "stream",
          "name": "stderr",
          "text": [
            "Epoch 26/100 [Train]: 100%|██████████| 196/196 [00:43<00:00,  4.46it/s, acc=56.57%, loss=1.450, lr=9.6e-04]\n",
            "Epoch 26/100 [Test]: 100%|██████████| 40/40 [00:06<00:00,  6.35it/s, acc=67.14%, loss=1.221]\n"
          ]
        },
        {
          "output_type": "stream",
          "name": "stdout",
          "text": [
            "New best accuracy: 67.14%.\n"
          ]
        },
        {
          "output_type": "stream",
          "name": "stderr",
          "text": [
            "Epoch 27/100 [Train]: 100%|██████████| 196/196 [00:44<00:00,  4.43it/s, acc=58.17%, loss=1.427, lr=9.8e-04]\n",
            "Epoch 27/100 [Test]: 100%|██████████| 40/40 [00:06<00:00,  6.38it/s, acc=69.05%, loss=1.175]\n"
          ]
        },
        {
          "output_type": "stream",
          "name": "stdout",
          "text": [
            "New best accuracy: 69.05%.\n"
          ]
        },
        {
          "output_type": "stream",
          "name": "stderr",
          "text": [
            "Epoch 28/100 [Train]: 100%|██████████| 196/196 [00:44<00:00,  4.42it/s, acc=58.74%, loss=1.409, lr=9.9e-04]\n",
            "Epoch 28/100 [Test]: 100%|██████████| 40/40 [00:06<00:00,  6.48it/s, acc=70.33%, loss=1.153]\n"
          ]
        },
        {
          "output_type": "stream",
          "name": "stdout",
          "text": [
            "New best accuracy: 70.33%.\n"
          ]
        },
        {
          "output_type": "stream",
          "name": "stderr",
          "text": [
            "Epoch 29/100 [Train]: 100%|██████████| 196/196 [00:44<00:00,  4.40it/s, acc=59.68%, loss=1.385, lr=1.0e-03]\n",
            "Epoch 29/100 [Test]: 100%|██████████| 40/40 [00:06<00:00,  6.48it/s, acc=70.64%, loss=1.148]\n"
          ]
        },
        {
          "output_type": "stream",
          "name": "stdout",
          "text": [
            "New best accuracy: 70.64%.\n"
          ]
        },
        {
          "output_type": "stream",
          "name": "stderr",
          "text": [
            "Epoch 30/100 [Train]: 100%|██████████| 196/196 [00:44<00:00,  4.38it/s, acc=60.51%, loss=1.367, lr=1.0e-03]\n",
            "Epoch 30/100 [Test]: 100%|██████████| 40/40 [00:06<00:00,  6.41it/s, acc=70.68%, loss=1.141]\n"
          ]
        },
        {
          "output_type": "stream",
          "name": "stdout",
          "text": [
            "New best accuracy: 70.68%.\n"
          ]
        },
        {
          "output_type": "stream",
          "name": "stderr",
          "text": [
            "Epoch 31/100 [Train]: 100%|██████████| 196/196 [00:45<00:00,  4.35it/s, acc=61.80%, loss=1.345, lr=1.0e-03]\n",
            "Epoch 31/100 [Test]: 100%|██████████| 40/40 [00:06<00:00,  6.42it/s, acc=71.04%, loss=1.127]\n"
          ]
        },
        {
          "output_type": "stream",
          "name": "stdout",
          "text": [
            "New best accuracy: 71.04%.\n"
          ]
        },
        {
          "output_type": "stream",
          "name": "stderr",
          "text": [
            "Epoch 32/100 [Train]: 100%|██████████| 196/196 [00:44<00:00,  4.38it/s, acc=62.82%, loss=1.327, lr=1.0e-03]\n",
            "Epoch 32/100 [Test]: 100%|██████████| 40/40 [00:06<00:00,  6.43it/s, acc=73.00%, loss=1.112]\n"
          ]
        },
        {
          "output_type": "stream",
          "name": "stdout",
          "text": [
            "New best accuracy: 73.00%.\n"
          ]
        },
        {
          "output_type": "stream",
          "name": "stderr",
          "text": [
            "Epoch 33/100 [Train]: 100%|██████████| 196/196 [00:44<00:00,  4.44it/s, acc=63.14%, loss=1.311, lr=1.0e-03]\n",
            "Epoch 33/100 [Test]: 100%|██████████| 40/40 [00:06<00:00,  6.37it/s, acc=72.00%, loss=1.113]\n",
            "Epoch 34/100 [Train]: 100%|██████████| 196/196 [00:43<00:00,  4.49it/s, acc=63.99%, loss=1.299, lr=9.9e-04]\n",
            "Epoch 34/100 [Test]: 100%|██████████| 40/40 [00:06<00:00,  6.12it/s, acc=73.80%, loss=1.080]\n"
          ]
        },
        {
          "output_type": "stream",
          "name": "stdout",
          "text": [
            "New best accuracy: 73.80%.\n"
          ]
        },
        {
          "output_type": "stream",
          "name": "stderr",
          "text": [
            "Epoch 35/100 [Train]: 100%|██████████| 196/196 [00:43<00:00,  4.45it/s, acc=64.71%, loss=1.285, lr=9.9e-04]\n",
            "Epoch 35/100 [Test]: 100%|██████████| 40/40 [00:06<00:00,  6.18it/s, acc=75.76%, loss=1.046]\n"
          ]
        },
        {
          "output_type": "stream",
          "name": "stdout",
          "text": [
            "New best accuracy: 75.76%.\n"
          ]
        },
        {
          "output_type": "stream",
          "name": "stderr",
          "text": [
            "Epoch 36/100 [Train]: 100%|██████████| 196/196 [00:43<00:00,  4.48it/s, acc=65.45%, loss=1.265, lr=9.8e-04]\n",
            "Epoch 36/100 [Test]: 100%|██████████| 40/40 [00:06<00:00,  6.45it/s, acc=75.11%, loss=1.059]\n",
            "Epoch 37/100 [Train]: 100%|██████████| 196/196 [00:43<00:00,  4.47it/s, acc=65.86%, loss=1.257, lr=9.8e-04]\n",
            "Epoch 37/100 [Test]: 100%|██████████| 40/40 [00:06<00:00,  6.42it/s, acc=75.84%, loss=1.023]\n"
          ]
        },
        {
          "output_type": "stream",
          "name": "stdout",
          "text": [
            "New best accuracy: 75.84%.\n"
          ]
        },
        {
          "output_type": "stream",
          "name": "stderr",
          "text": [
            "Epoch 38/100 [Train]: 100%|██████████| 196/196 [00:43<00:00,  4.46it/s, acc=66.28%, loss=1.245, lr=9.7e-04]\n",
            "Epoch 38/100 [Test]: 100%|██████████| 40/40 [00:06<00:00,  6.35it/s, acc=75.94%, loss=1.033]\n"
          ]
        },
        {
          "output_type": "stream",
          "name": "stdout",
          "text": [
            "New best accuracy: 75.94%.\n"
          ]
        },
        {
          "output_type": "stream",
          "name": "stderr",
          "text": [
            "Epoch 39/100 [Train]: 100%|██████████| 196/196 [00:44<00:00,  4.44it/s, acc=67.01%, loss=1.232, lr=9.6e-04]\n",
            "Epoch 39/100 [Test]: 100%|██████████| 40/40 [00:06<00:00,  6.41it/s, acc=75.28%, loss=1.040]\n",
            "Epoch 40/100 [Train]: 100%|██████████| 196/196 [00:44<00:00,  4.43it/s, acc=67.73%, loss=1.217, lr=9.5e-04]\n",
            "Epoch 40/100 [Test]: 100%|██████████| 40/40 [00:06<00:00,  6.40it/s, acc=76.75%, loss=1.026]\n"
          ]
        },
        {
          "output_type": "stream",
          "name": "stdout",
          "text": [
            "New best accuracy: 76.75%.\n"
          ]
        },
        {
          "output_type": "stream",
          "name": "stderr",
          "text": [
            "Epoch 41/100 [Train]: 100%|██████████| 196/196 [00:44<00:00,  4.40it/s, acc=68.36%, loss=1.207, lr=9.4e-04]\n",
            "Epoch 41/100 [Test]: 100%|██████████| 40/40 [00:06<00:00,  6.46it/s, acc=77.20%, loss=1.011]\n"
          ]
        },
        {
          "output_type": "stream",
          "name": "stdout",
          "text": [
            "New best accuracy: 77.20%.\n"
          ]
        },
        {
          "output_type": "stream",
          "name": "stderr",
          "text": [
            "Epoch 42/100 [Train]: 100%|██████████| 196/196 [00:44<00:00,  4.37it/s, acc=68.68%, loss=1.195, lr=9.3e-04]\n",
            "Epoch 42/100 [Test]: 100%|██████████| 40/40 [00:06<00:00,  6.43it/s, acc=78.91%, loss=0.973]\n"
          ]
        },
        {
          "output_type": "stream",
          "name": "stdout",
          "text": [
            "New best accuracy: 78.91%.\n"
          ]
        },
        {
          "output_type": "stream",
          "name": "stderr",
          "text": [
            "Epoch 43/100 [Train]: 100%|██████████| 196/196 [00:45<00:00,  4.30it/s, acc=69.03%, loss=1.191, lr=9.2e-04]\n",
            "Epoch 43/100 [Test]: 100%|██████████| 40/40 [00:06<00:00,  6.48it/s, acc=77.10%, loss=1.003]\n",
            "Epoch 44/100 [Train]: 100%|██████████| 196/196 [00:45<00:00,  4.31it/s, acc=69.80%, loss=1.173, lr=9.0e-04]\n",
            "Epoch 44/100 [Test]: 100%|██████████| 40/40 [00:06<00:00,  6.42it/s, acc=78.96%, loss=0.969]\n"
          ]
        },
        {
          "output_type": "stream",
          "name": "stdout",
          "text": [
            "New best accuracy: 78.96%.\n"
          ]
        },
        {
          "output_type": "stream",
          "name": "stderr",
          "text": [
            "Epoch 45/100 [Train]: 100%|██████████| 196/196 [00:44<00:00,  4.38it/s, acc=70.26%, loss=1.163, lr=8.9e-04]\n",
            "Epoch 45/100 [Test]: 100%|██████████| 40/40 [00:06<00:00,  6.41it/s, acc=80.30%, loss=0.949]\n"
          ]
        },
        {
          "output_type": "stream",
          "name": "stdout",
          "text": [
            "New best accuracy: 80.30%.\n"
          ]
        },
        {
          "output_type": "stream",
          "name": "stderr",
          "text": [
            "Epoch 46/100 [Train]: 100%|██████████| 196/196 [00:44<00:00,  4.38it/s, acc=70.65%, loss=1.155, lr=8.8e-04]\n",
            "Epoch 46/100 [Test]: 100%|██████████| 40/40 [00:06<00:00,  6.50it/s, acc=79.81%, loss=0.941]\n",
            "Epoch 47/100 [Train]: 100%|██████████| 196/196 [00:44<00:00,  4.40it/s, acc=71.05%, loss=1.146, lr=8.6e-04]\n",
            "Epoch 47/100 [Test]: 100%|██████████| 40/40 [00:06<00:00,  6.37it/s, acc=79.61%, loss=0.953]\n",
            "Epoch 48/100 [Train]: 100%|██████████| 196/196 [00:45<00:00,  4.34it/s, acc=71.33%, loss=1.137, lr=8.5e-04]\n",
            "Epoch 48/100 [Test]: 100%|██████████| 40/40 [00:06<00:00,  6.33it/s, acc=80.22%, loss=0.944]\n",
            "Epoch 49/100 [Train]: 100%|██████████| 196/196 [00:45<00:00,  4.34it/s, acc=71.73%, loss=1.126, lr=8.3e-04]\n",
            "Epoch 49/100 [Test]: 100%|██████████| 40/40 [00:06<00:00,  6.13it/s, acc=80.11%, loss=0.943]\n",
            "Epoch 50/100 [Train]: 100%|██████████| 196/196 [00:45<00:00,  4.34it/s, acc=72.38%, loss=1.117, lr=8.1e-04]\n",
            "Epoch 50/100 [Test]: 100%|██████████| 40/40 [00:06<00:00,  6.12it/s, acc=81.54%, loss=0.918]\n"
          ]
        },
        {
          "output_type": "stream",
          "name": "stdout",
          "text": [
            "New best accuracy: 81.54%.\n"
          ]
        },
        {
          "output_type": "stream",
          "name": "stderr",
          "text": [
            "Epoch 51/100 [Train]: 100%|██████████| 196/196 [00:44<00:00,  4.38it/s, acc=72.60%, loss=1.109, lr=7.9e-04]\n",
            "Epoch 51/100 [Test]: 100%|██████████| 40/40 [00:06<00:00,  6.04it/s, acc=81.29%, loss=0.914]\n",
            "Epoch 52/100 [Train]: 100%|██████████| 196/196 [00:44<00:00,  4.36it/s, acc=73.27%, loss=1.099, lr=7.8e-04]\n",
            "Epoch 52/100 [Test]: 100%|██████████| 40/40 [00:06<00:00,  6.06it/s, acc=80.80%, loss=0.925]\n",
            "Epoch 53/100 [Train]: 100%|██████████| 196/196 [00:44<00:00,  4.43it/s, acc=73.77%, loss=1.088, lr=7.6e-04]\n",
            "Epoch 53/100 [Test]: 100%|██████████| 40/40 [00:06<00:00,  6.36it/s, acc=81.14%, loss=0.924]\n",
            "Epoch 54/100 [Train]: 100%|██████████| 196/196 [00:44<00:00,  4.45it/s, acc=73.94%, loss=1.085, lr=7.4e-04]\n",
            "Epoch 54/100 [Test]: 100%|██████████| 40/40 [00:06<00:00,  6.34it/s, acc=81.66%, loss=0.915]\n"
          ]
        },
        {
          "output_type": "stream",
          "name": "stdout",
          "text": [
            "New best accuracy: 81.66%.\n"
          ]
        },
        {
          "output_type": "stream",
          "name": "stderr",
          "text": [
            "Epoch 55/100 [Train]: 100%|██████████| 196/196 [00:44<00:00,  4.40it/s, acc=74.44%, loss=1.072, lr=7.2e-04]\n",
            "Epoch 55/100 [Test]: 100%|██████████| 40/40 [00:06<00:00,  6.40it/s, acc=82.51%, loss=0.889]\n"
          ]
        },
        {
          "output_type": "stream",
          "name": "stdout",
          "text": [
            "New best accuracy: 82.51%.\n"
          ]
        },
        {
          "output_type": "stream",
          "name": "stderr",
          "text": [
            "Epoch 56/100 [Train]: 100%|██████████| 196/196 [00:44<00:00,  4.44it/s, acc=74.62%, loss=1.066, lr=7.0e-04]\n",
            "Epoch 56/100 [Test]: 100%|██████████| 40/40 [00:06<00:00,  6.45it/s, acc=83.00%, loss=0.881]\n"
          ]
        },
        {
          "output_type": "stream",
          "name": "stdout",
          "text": [
            "New best accuracy: 83.00%.\n"
          ]
        },
        {
          "output_type": "stream",
          "name": "stderr",
          "text": [
            "Epoch 57/100 [Train]: 100%|██████████| 196/196 [00:44<00:00,  4.42it/s, acc=75.17%, loss=1.057, lr=6.8e-04]\n",
            "Epoch 57/100 [Test]: 100%|██████████| 40/40 [00:06<00:00,  6.41it/s, acc=82.21%, loss=0.891]\n",
            "Epoch 58/100 [Train]: 100%|██████████| 196/196 [00:44<00:00,  4.37it/s, acc=75.73%, loss=1.042, lr=6.5e-04]\n",
            "Epoch 58/100 [Test]: 100%|██████████| 40/40 [00:06<00:00,  6.38it/s, acc=83.07%, loss=0.878]\n"
          ]
        },
        {
          "output_type": "stream",
          "name": "stdout",
          "text": [
            "New best accuracy: 83.07%.\n"
          ]
        },
        {
          "output_type": "stream",
          "name": "stderr",
          "text": [
            "Epoch 59/100 [Train]: 100%|██████████| 196/196 [00:45<00:00,  4.35it/s, acc=76.27%, loss=1.035, lr=6.3e-04]\n",
            "Epoch 59/100 [Test]: 100%|██████████| 40/40 [00:06<00:00,  6.39it/s, acc=84.19%, loss=0.862]\n"
          ]
        },
        {
          "output_type": "stream",
          "name": "stdout",
          "text": [
            "New best accuracy: 84.19%.\n"
          ]
        },
        {
          "output_type": "stream",
          "name": "stderr",
          "text": [
            "Epoch 60/100 [Train]: 100%|██████████| 196/196 [00:44<00:00,  4.38it/s, acc=76.18%, loss=1.031, lr=6.1e-04]\n",
            "Epoch 60/100 [Test]: 100%|██████████| 40/40 [00:06<00:00,  6.37it/s, acc=82.99%, loss=0.886]\n",
            "Epoch 61/100 [Train]: 100%|██████████| 196/196 [00:44<00:00,  4.40it/s, acc=76.98%, loss=1.017, lr=5.9e-04]\n",
            "Epoch 61/100 [Test]: 100%|██████████| 40/40 [00:06<00:00,  6.41it/s, acc=84.30%, loss=0.857]\n"
          ]
        },
        {
          "output_type": "stream",
          "name": "stdout",
          "text": [
            "New best accuracy: 84.30%.\n"
          ]
        },
        {
          "output_type": "stream",
          "name": "stderr",
          "text": [
            "Epoch 62/100 [Train]: 100%|██████████| 196/196 [00:44<00:00,  4.40it/s, acc=77.12%, loss=1.012, lr=5.7e-04]\n",
            "Epoch 62/100 [Test]: 100%|██████████| 40/40 [00:06<00:00,  6.39it/s, acc=84.40%, loss=0.857]\n"
          ]
        },
        {
          "output_type": "stream",
          "name": "stdout",
          "text": [
            "New best accuracy: 84.40%.\n"
          ]
        },
        {
          "output_type": "stream",
          "name": "stderr",
          "text": [
            "Epoch 63/100 [Train]: 100%|██████████| 196/196 [00:43<00:00,  4.48it/s, acc=77.59%, loss=1.004, lr=5.4e-04]\n",
            "Epoch 63/100 [Test]: 100%|██████████| 40/40 [00:06<00:00,  6.20it/s, acc=84.01%, loss=0.853]\n",
            "Epoch 64/100 [Train]: 100%|██████████| 196/196 [00:43<00:00,  4.47it/s, acc=77.88%, loss=0.998, lr=5.2e-04]\n",
            "Epoch 64/100 [Test]: 100%|██████████| 40/40 [00:06<00:00,  6.14it/s, acc=84.67%, loss=0.843]\n"
          ]
        },
        {
          "output_type": "stream",
          "name": "stdout",
          "text": [
            "New best accuracy: 84.67%.\n"
          ]
        },
        {
          "output_type": "stream",
          "name": "stderr",
          "text": [
            "Epoch 65/100 [Train]: 100%|██████████| 196/196 [00:44<00:00,  4.45it/s, acc=78.36%, loss=0.986, lr=5.0e-04]\n",
            "Epoch 65/100 [Test]: 100%|██████████| 40/40 [00:06<00:00,  6.31it/s, acc=84.71%, loss=0.845]\n"
          ]
        },
        {
          "output_type": "stream",
          "name": "stdout",
          "text": [
            "New best accuracy: 84.71%.\n"
          ]
        },
        {
          "output_type": "stream",
          "name": "stderr",
          "text": [
            "Epoch 66/100 [Train]: 100%|██████████| 196/196 [00:43<00:00,  4.50it/s, acc=78.56%, loss=0.979, lr=4.8e-04]\n",
            "Epoch 66/100 [Test]: 100%|██████████| 40/40 [00:06<00:00,  6.38it/s, acc=85.05%, loss=0.836]\n"
          ]
        },
        {
          "output_type": "stream",
          "name": "stdout",
          "text": [
            "New best accuracy: 85.05%.\n"
          ]
        },
        {
          "output_type": "stream",
          "name": "stderr",
          "text": [
            "Epoch 67/100 [Train]: 100%|██████████| 196/196 [00:43<00:00,  4.49it/s, acc=79.12%, loss=0.971, lr=4.6e-04]\n",
            "Epoch 67/100 [Test]: 100%|██████████| 40/40 [00:06<00:00,  6.40it/s, acc=85.19%, loss=0.829]\n"
          ]
        },
        {
          "output_type": "stream",
          "name": "stdout",
          "text": [
            "New best accuracy: 85.19%.\n"
          ]
        },
        {
          "output_type": "stream",
          "name": "stderr",
          "text": [
            "Epoch 68/100 [Train]: 100%|██████████| 196/196 [00:43<00:00,  4.47it/s, acc=79.45%, loss=0.964, lr=4.3e-04]\n",
            "Epoch 68/100 [Test]: 100%|██████████| 40/40 [00:06<00:00,  6.34it/s, acc=85.22%, loss=0.832]\n"
          ]
        },
        {
          "output_type": "stream",
          "name": "stdout",
          "text": [
            "New best accuracy: 85.22%.\n"
          ]
        },
        {
          "output_type": "stream",
          "name": "stderr",
          "text": [
            "Epoch 69/100 [Train]: 100%|██████████| 196/196 [00:44<00:00,  4.43it/s, acc=79.51%, loss=0.958, lr=4.1e-04]\n",
            "Epoch 69/100 [Test]: 100%|██████████| 40/40 [00:06<00:00,  6.41it/s, acc=85.94%, loss=0.822]\n"
          ]
        },
        {
          "output_type": "stream",
          "name": "stdout",
          "text": [
            "New best accuracy: 85.94%.\n"
          ]
        },
        {
          "output_type": "stream",
          "name": "stderr",
          "text": [
            "Epoch 70/100 [Train]: 100%|██████████| 196/196 [00:44<00:00,  4.44it/s, acc=79.94%, loss=0.949, lr=3.9e-04]\n",
            "Epoch 70/100 [Test]: 100%|██████████| 40/40 [00:06<00:00,  6.42it/s, acc=85.97%, loss=0.821]\n"
          ]
        },
        {
          "output_type": "stream",
          "name": "stdout",
          "text": [
            "New best accuracy: 85.97%.\n"
          ]
        },
        {
          "output_type": "stream",
          "name": "stderr",
          "text": [
            "Epoch 71/100 [Train]: 100%|██████████| 196/196 [00:44<00:00,  4.42it/s, acc=80.39%, loss=0.942, lr=3.7e-04]\n",
            "Epoch 71/100 [Test]: 100%|██████████| 40/40 [00:06<00:00,  6.45it/s, acc=86.00%, loss=0.818]\n"
          ]
        },
        {
          "output_type": "stream",
          "name": "stdout",
          "text": [
            "New best accuracy: 86.00%.\n"
          ]
        },
        {
          "output_type": "stream",
          "name": "stderr",
          "text": [
            "Epoch 72/100 [Train]: 100%|██████████| 196/196 [00:43<00:00,  4.48it/s, acc=80.75%, loss=0.932, lr=3.5e-04]\n",
            "Epoch 72/100 [Test]: 100%|██████████| 40/40 [00:06<00:00,  6.24it/s, acc=85.90%, loss=0.821]\n",
            "Epoch 73/100 [Train]: 100%|██████████| 196/196 [00:43<00:00,  4.54it/s, acc=81.04%, loss=0.928, lr=3.2e-04]\n",
            "Epoch 73/100 [Test]: 100%|██████████| 40/40 [00:06<00:00,  6.38it/s, acc=86.46%, loss=0.812]\n"
          ]
        },
        {
          "output_type": "stream",
          "name": "stdout",
          "text": [
            "New best accuracy: 86.46%.\n"
          ]
        },
        {
          "output_type": "stream",
          "name": "stderr",
          "text": [
            "Epoch 74/100 [Train]: 100%|██████████| 196/196 [00:43<00:00,  4.53it/s, acc=81.29%, loss=0.923, lr=3.0e-04]\n",
            "Epoch 74/100 [Test]: 100%|██████████| 40/40 [00:06<00:00,  6.38it/s, acc=86.60%, loss=0.807]\n"
          ]
        },
        {
          "output_type": "stream",
          "name": "stdout",
          "text": [
            "New best accuracy: 86.60%.\n"
          ]
        },
        {
          "output_type": "stream",
          "name": "stderr",
          "text": [
            "Epoch 75/100 [Train]: 100%|██████████| 196/196 [00:43<00:00,  4.49it/s, acc=81.40%, loss=0.915, lr=2.8e-04]\n",
            "Epoch 75/100 [Test]: 100%|██████████| 40/40 [00:06<00:00,  6.36it/s, acc=87.12%, loss=0.800]\n"
          ]
        },
        {
          "output_type": "stream",
          "name": "stdout",
          "text": [
            "New best accuracy: 87.12%.\n"
          ]
        },
        {
          "output_type": "stream",
          "name": "stderr",
          "text": [
            "Epoch 76/100 [Train]: 100%|██████████| 196/196 [00:43<00:00,  4.46it/s, acc=82.13%, loss=0.906, lr=2.6e-04]\n",
            "Epoch 76/100 [Test]: 100%|██████████| 40/40 [00:06<00:00,  6.36it/s, acc=86.97%, loss=0.796]\n",
            "Epoch 77/100 [Train]: 100%|██████████| 196/196 [00:44<00:00,  4.42it/s, acc=82.02%, loss=0.905, lr=2.4e-04]\n",
            "Epoch 77/100 [Test]: 100%|██████████| 40/40 [00:06<00:00,  6.41it/s, acc=87.08%, loss=0.794]\n",
            "Epoch 78/100 [Train]: 100%|██████████| 196/196 [00:47<00:00,  4.09it/s, acc=82.58%, loss=0.896, lr=2.2e-04]\n",
            "Epoch 78/100 [Test]: 100%|██████████| 40/40 [00:06<00:00,  6.31it/s, acc=87.39%, loss=0.791]\n"
          ]
        },
        {
          "output_type": "stream",
          "name": "stdout",
          "text": [
            "New best accuracy: 87.39%.\n"
          ]
        },
        {
          "output_type": "stream",
          "name": "stderr",
          "text": [
            "Epoch 79/100 [Train]: 100%|██████████| 196/196 [00:44<00:00,  4.39it/s, acc=83.09%, loss=0.889, lr=2.1e-04]\n",
            "Epoch 79/100 [Test]: 100%|██████████| 40/40 [00:06<00:00,  6.32it/s, acc=87.43%, loss=0.789]\n"
          ]
        },
        {
          "output_type": "stream",
          "name": "stdout",
          "text": [
            "New best accuracy: 87.43%.\n"
          ]
        },
        {
          "output_type": "stream",
          "name": "stderr",
          "text": [
            "Epoch 80/100 [Train]: 100%|██████████| 196/196 [00:45<00:00,  4.30it/s, acc=83.11%, loss=0.884, lr=1.9e-04]\n",
            "Epoch 80/100 [Test]: 100%|██████████| 40/40 [00:06<00:00,  6.35it/s, acc=87.59%, loss=0.781]\n"
          ]
        },
        {
          "output_type": "stream",
          "name": "stdout",
          "text": [
            "New best accuracy: 87.59%.\n"
          ]
        },
        {
          "output_type": "stream",
          "name": "stderr",
          "text": [
            "Epoch 81/100 [Train]: 100%|██████████| 196/196 [00:45<00:00,  4.30it/s, acc=83.43%, loss=0.877, lr=1.7e-04]\n",
            "Epoch 81/100 [Test]: 100%|██████████| 40/40 [00:06<00:00,  6.40it/s, acc=87.56%, loss=0.786]\n",
            "Epoch 82/100 [Train]: 100%|██████████| 196/196 [00:45<00:00,  4.27it/s, acc=83.62%, loss=0.872, lr=1.5e-04]\n",
            "Epoch 82/100 [Test]: 100%|██████████| 40/40 [00:06<00:00,  6.36it/s, acc=87.46%, loss=0.786]\n",
            "Epoch 83/100 [Train]: 100%|██████████| 196/196 [00:45<00:00,  4.32it/s, acc=83.82%, loss=0.866, lr=1.4e-04]\n",
            "Epoch 83/100 [Test]: 100%|██████████| 40/40 [00:06<00:00,  6.42it/s, acc=87.61%, loss=0.783]\n"
          ]
        },
        {
          "output_type": "stream",
          "name": "stdout",
          "text": [
            "New best accuracy: 87.61%.\n"
          ]
        },
        {
          "output_type": "stream",
          "name": "stderr",
          "text": [
            "Epoch 84/100 [Train]: 100%|██████████| 196/196 [00:45<00:00,  4.32it/s, acc=83.95%, loss=0.863, lr=1.2e-04]\n",
            "Epoch 84/100 [Test]: 100%|██████████| 40/40 [00:06<00:00,  6.40it/s, acc=87.94%, loss=0.778]\n"
          ]
        },
        {
          "output_type": "stream",
          "name": "stdout",
          "text": [
            "New best accuracy: 87.94%.\n"
          ]
        },
        {
          "output_type": "stream",
          "name": "stderr",
          "text": [
            "Epoch 85/100 [Train]: 100%|██████████| 196/196 [00:44<00:00,  4.39it/s, acc=84.23%, loss=0.862, lr=1.1e-04]\n",
            "Epoch 85/100 [Test]: 100%|██████████| 40/40 [00:06<00:00,  6.41it/s, acc=87.77%, loss=0.781]\n",
            "Epoch 86/100 [Train]: 100%|██████████| 196/196 [00:43<00:00,  4.46it/s, acc=84.47%, loss=0.855, lr=9.5e-05]\n",
            "Epoch 86/100 [Test]: 100%|██████████| 40/40 [00:06<00:00,  6.25it/s, acc=87.78%, loss=0.778]\n",
            "Epoch 87/100 [Train]: 100%|██████████| 196/196 [00:43<00:00,  4.54it/s, acc=84.54%, loss=0.849, lr=8.3e-05]\n",
            "Epoch 87/100 [Test]: 100%|██████████| 40/40 [00:06<00:00,  6.32it/s, acc=87.82%, loss=0.777]\n",
            "Epoch 88/100 [Train]: 100%|██████████| 196/196 [00:43<00:00,  4.51it/s, acc=84.78%, loss=0.848, lr=7.1e-05]\n",
            "Epoch 88/100 [Test]: 100%|██████████| 40/40 [00:06<00:00,  6.40it/s, acc=88.16%, loss=0.773]\n"
          ]
        },
        {
          "output_type": "stream",
          "name": "stdout",
          "text": [
            "New best accuracy: 88.16%.\n"
          ]
        },
        {
          "output_type": "stream",
          "name": "stderr",
          "text": [
            "Epoch 89/100 [Train]: 100%|██████████| 196/196 [00:43<00:00,  4.54it/s, acc=84.95%, loss=0.844, lr=6.0e-05]\n",
            "Epoch 89/100 [Test]: 100%|██████████| 40/40 [00:06<00:00,  6.30it/s, acc=88.37%, loss=0.770]\n"
          ]
        },
        {
          "output_type": "stream",
          "name": "stdout",
          "text": [
            "New best accuracy: 88.37%.\n"
          ]
        },
        {
          "output_type": "stream",
          "name": "stderr",
          "text": [
            "Epoch 90/100 [Train]: 100%|██████████| 196/196 [00:44<00:00,  4.39it/s, acc=85.11%, loss=0.840, lr=4.9e-05]\n",
            "Epoch 90/100 [Test]: 100%|██████████| 40/40 [00:06<00:00,  6.40it/s, acc=88.25%, loss=0.770]\n",
            "Epoch 91/100 [Train]: 100%|██████████| 196/196 [00:45<00:00,  4.28it/s, acc=85.20%, loss=0.838, lr=4.0e-05]\n",
            "Epoch 91/100 [Test]: 100%|██████████| 40/40 [00:06<00:00,  6.38it/s, acc=88.25%, loss=0.770]\n",
            "Epoch 92/100 [Train]: 100%|██████████| 196/196 [00:44<00:00,  4.37it/s, acc=85.22%, loss=0.838, lr=3.2e-05]\n",
            "Epoch 92/100 [Test]: 100%|██████████| 40/40 [00:06<00:00,  6.42it/s, acc=88.26%, loss=0.769]\n",
            "Epoch 93/100 [Train]: 100%|██████████| 196/196 [00:44<00:00,  4.41it/s, acc=85.28%, loss=0.835, lr=2.4e-05]\n",
            "Epoch 93/100 [Test]: 100%|██████████| 40/40 [00:06<00:00,  6.37it/s, acc=88.22%, loss=0.767]\n",
            "Epoch 94/100 [Train]: 100%|██████████| 196/196 [00:44<00:00,  4.41it/s, acc=85.50%, loss=0.830, lr=1.8e-05]\n",
            "Epoch 94/100 [Test]: 100%|██████████| 40/40 [00:06<00:00,  6.55it/s, acc=88.26%, loss=0.768]\n",
            "Epoch 95/100 [Train]: 100%|██████████| 196/196 [00:43<00:00,  4.51it/s, acc=85.38%, loss=0.834, lr=1.3e-05]\n",
            "Epoch 95/100 [Test]: 100%|██████████| 40/40 [00:06<00:00,  6.05it/s, acc=88.24%, loss=0.767]\n",
            "Epoch 96/100 [Train]: 100%|██████████| 196/196 [00:43<00:00,  4.48it/s, acc=85.77%, loss=0.826, lr=8.0e-06]\n",
            "Epoch 96/100 [Test]: 100%|██████████| 40/40 [00:06<00:00,  6.40it/s, acc=88.35%, loss=0.766]\n",
            "Epoch 97/100 [Train]: 100%|██████████| 196/196 [00:44<00:00,  4.37it/s, acc=85.55%, loss=0.831, lr=4.5e-06]\n",
            "Epoch 97/100 [Test]: 100%|██████████| 40/40 [00:06<00:00,  6.39it/s, acc=88.27%, loss=0.765]\n",
            "Epoch 98/100 [Train]: 100%|██████████| 196/196 [00:44<00:00,  4.40it/s, acc=85.75%, loss=0.826, lr=2.0e-06]\n",
            "Epoch 98/100 [Test]: 100%|██████████| 40/40 [00:06<00:00,  6.35it/s, acc=88.24%, loss=0.766]\n",
            "Epoch 99/100 [Train]: 100%|██████████| 196/196 [00:44<00:00,  4.44it/s, acc=85.54%, loss=0.833, lr=5.0e-07]\n",
            "Epoch 99/100 [Test]: 100%|██████████| 40/40 [00:06<00:00,  6.37it/s, acc=88.22%, loss=0.765]\n",
            "Epoch 100/100 [Train]: 100%|██████████| 196/196 [00:44<00:00,  4.41it/s, acc=85.48%, loss=0.831, lr=4.0e-09]\n",
            "Epoch 100/100 [Test]: 100%|██████████| 40/40 [00:06<00:00,  6.32it/s, acc=88.23%, loss=0.765]"
          ]
        },
        {
          "output_type": "stream",
          "name": "stdout",
          "text": [
            "\n",
            "--- Training Finished ---\n",
            "Total Training Time: 86.02 minutes\n",
            "Best Test Accuracy: 88.37%\n"
          ]
        },
        {
          "output_type": "stream",
          "name": "stderr",
          "text": [
            "\n"
          ]
        }
      ]
    },
    {
      "cell_type": "code",
      "source": [],
      "metadata": {
        "id": "T4wlbWl3WL_G"
      },
      "execution_count": null,
      "outputs": []
    },
    {
      "cell_type": "code",
      "source": [],
      "metadata": {
        "id": "nvJDEgLnT0Hv"
      },
      "execution_count": null,
      "outputs": []
    }
  ]
}